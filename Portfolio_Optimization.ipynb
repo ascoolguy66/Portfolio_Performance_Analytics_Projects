{
 "cells": [
  {
   "cell_type": "markdown",
   "metadata": {},
   "source": [
    "# Portfolio Optimization\n",
    "\n",
    "\n",
    "### Problem Statement: \n",
    "Construct a portfolio of 100K USD with 90% equities and 10% cash. Will construct portfolio of based on the following methods:\n",
    "1. Equal Weightage Portfolio.\n",
    "2. Using Machine Learning techniques based on Bottom Up Optimization.\n",
    "3. Efficient Frontier.\n",
    "\n",
    "We will build intraday trading stratrgies to maximize profit. We will create the Sharpe Ratio of portfolio to assess statistics.\n",
    "\n",
    "### Data\n",
    "* We will be using 5 minutes data over the period of 2018, beginning 01st May, 2018 till 07th October, 2018. We have choosen 05 stocks named as Company 01 to 05. The price information is avialble at an interval of 05 minutes.Though at this point, we’re unsure as to exactly which stocks we will be trading, we will find the solution using Bottom Up Optimization.\n",
    "* We will use data from 01st May, 2018 - 31st August, 2018 to training our model, and use the remaining period 01st September -07th October, 2018 as test period."
   ]
  },
  {
   "cell_type": "code",
   "execution_count": 106,
   "metadata": {},
   "outputs": [],
   "source": [
    "# Import Libraries\n",
    "#data analysis and manipulation\n",
    "import numpy as np\n",
    "import pandas as pd\n",
    "\n",
    "#data visualization\n",
    "import matplotlib.pyplot as plt\n",
    "import seaborn as sns\n",
    "sns.set_style('whitegrid')\n",
    "\n",
    "#statistics and machine learning\n",
    "from statsmodels.tsa.api import adfuller\n",
    "from sklearn.cluster import KMeans\n",
    "from sklearn.mixture import GaussianMixture as GM\n",
    "from sklearn.ensemble import RandomForestClassifier as RF\n",
    "from sklearn.metrics import confusion_matrix, classification_report\n",
    "from scipy.stats import linregress\n",
    "\n",
    "# Supress Warning Message\n",
    "import warnings\n",
    "warnings.simplefilter('ignore')\n",
    "\n",
    "# Set Working Directory\n",
    "import os\n",
    "os.chdir('C:\\\\Users\\\\veera\\\\Desktop\\\\Studies\\\\Projects\\\\Portfolio_Optimization\\\\Data')\n",
    "\n",
    "# Date Time\n",
    "import datetime"
   ]
  },
  {
   "cell_type": "code",
   "execution_count": 141,
   "metadata": {},
   "outputs": [
    {
     "data": {
      "text/html": [
       "<div>\n",
       "<style scoped>\n",
       "    .dataframe tbody tr th:only-of-type {\n",
       "        vertical-align: middle;\n",
       "    }\n",
       "\n",
       "    .dataframe tbody tr th {\n",
       "        vertical-align: top;\n",
       "    }\n",
       "\n",
       "    .dataframe thead th {\n",
       "        text-align: right;\n",
       "    }\n",
       "</style>\n",
       "<table border=\"1\" class=\"dataframe\">\n",
       "  <thead>\n",
       "    <tr style=\"text-align: right;\">\n",
       "      <th></th>\n",
       "      <th>Symbol</th>\n",
       "      <th>Name</th>\n",
       "      <th>P/E</th>\n",
       "      <th>EPS</th>\n",
       "      <th>MarketCap</th>\n",
       "    </tr>\n",
       "  </thead>\n",
       "  <tbody>\n",
       "    <tr>\n",
       "      <th>0</th>\n",
       "      <td>ABC01</td>\n",
       "      <td>Company 01</td>\n",
       "      <td>23.17</td>\n",
       "      <td>8.16</td>\n",
       "      <td>112.74</td>\n",
       "    </tr>\n",
       "    <tr>\n",
       "      <th>1</th>\n",
       "      <td>ABC02</td>\n",
       "      <td>Company 02</td>\n",
       "      <td>48.03</td>\n",
       "      <td>0.94</td>\n",
       "      <td>77.76</td>\n",
       "    </tr>\n",
       "    <tr>\n",
       "      <th>2</th>\n",
       "      <td>ABC03</td>\n",
       "      <td>Company 03</td>\n",
       "      <td>17.55</td>\n",
       "      <td>3.63</td>\n",
       "      <td>101.52</td>\n",
       "    </tr>\n",
       "    <tr>\n",
       "      <th>3</th>\n",
       "      <td>ABC04</td>\n",
       "      <td>Company 04</td>\n",
       "      <td>18.37</td>\n",
       "      <td>6.76</td>\n",
       "      <td>77.29</td>\n",
       "    </tr>\n",
       "    <tr>\n",
       "      <th>4</th>\n",
       "      <td>ABC05</td>\n",
       "      <td>Company 05</td>\n",
       "      <td>37.55</td>\n",
       "      <td>1.28</td>\n",
       "      <td>36.13</td>\n",
       "    </tr>\n",
       "  </tbody>\n",
       "</table>\n",
       "</div>"
      ],
      "text/plain": [
       "  Symbol        Name    P/E   EPS  MarketCap\n",
       "0  ABC01  Company 01  23.17  8.16     112.74\n",
       "1  ABC02  Company 02  48.03  0.94      77.76\n",
       "2  ABC03  Company 03  17.55  3.63     101.52\n",
       "3  ABC04  Company 04  18.37  6.76      77.29\n",
       "4  ABC05  Company 05  37.55  1.28      36.13"
      ]
     },
     "execution_count": 141,
     "metadata": {},
     "output_type": "execute_result"
    }
   ],
   "source": [
    "# Import Data\n",
    "fundamentals = pd.read_csv('Fundamentals.csv')\n",
    "\n",
    "# Taking a look at all the datasets\n",
    "fundamentals.head()"
   ]
  },
  {
   "cell_type": "code",
   "execution_count": 142,
   "metadata": {},
   "outputs": [],
   "source": [
    "# Dropping name column\n",
    "fundamentals.drop('Name',axis=1,inplace=True)"
   ]
  },
  {
   "cell_type": "code",
   "execution_count": 143,
   "metadata": {},
   "outputs": [],
   "source": [
    "from scipy.spatial.distance import cdist"
   ]
  },
  {
   "cell_type": "code",
   "execution_count": 144,
   "metadata": {},
   "outputs": [],
   "source": [
    "# Creating our elbow technique method\n",
    "def find_k(features):\n",
    "    #intializing a list to hold costs or errors\n",
    "    costs=[]\n",
    "    \n",
    "    #iterating over possible values for k\n",
    "    for k in range(1,51):\n",
    "        model=KMeans(n_clusters=k) \n",
    "        model.fit(features)\n",
    "        costs.append(sum(np.min(cdist(features,model.cluster_centers_,'euclidean'),axis=1)))\n",
    "    \n",
    "    #plotting our elbow graph    \n",
    "    with plt.style.context(['classic','ggplot']):\n",
    "        plt.figure(figsize=(10,6))\n",
    "        plt.plot(costs)\n",
    "        plt.xlabel('Clusters')\n",
    "        plt.ylabel('Errors')\n",
    "        plt.title('Finding K')\n",
    "        plt.show()"
   ]
  },
  {
   "cell_type": "code",
   "execution_count": 145,
   "metadata": {},
   "outputs": [],
   "source": [
    "#making a copy of our original features dataframe\n",
    "fundamentals_copy=fundamentals.copy()"
   ]
  },
  {
   "cell_type": "code",
   "execution_count": 146,
   "metadata": {},
   "outputs": [],
   "source": [
    "# Reindexing our features dataframe\n",
    "fundamentals_copy=fundamentals_copy.reindex(index=fundamentals_copy['Symbol'],columns=fundamentals_copy.columns)"
   ]
  },
  {
   "cell_type": "code",
   "execution_count": 147,
   "metadata": {},
   "outputs": [
    {
     "data": {
      "text/html": [
       "<div>\n",
       "<style scoped>\n",
       "    .dataframe tbody tr th:only-of-type {\n",
       "        vertical-align: middle;\n",
       "    }\n",
       "\n",
       "    .dataframe tbody tr th {\n",
       "        vertical-align: top;\n",
       "    }\n",
       "\n",
       "    .dataframe thead th {\n",
       "        text-align: right;\n",
       "    }\n",
       "</style>\n",
       "<table border=\"1\" class=\"dataframe\">\n",
       "  <thead>\n",
       "    <tr style=\"text-align: right;\">\n",
       "      <th></th>\n",
       "      <th>Symbol</th>\n",
       "      <th>P/E</th>\n",
       "      <th>EPS</th>\n",
       "      <th>MarketCap</th>\n",
       "    </tr>\n",
       "    <tr>\n",
       "      <th>Symbol</th>\n",
       "      <th></th>\n",
       "      <th></th>\n",
       "      <th></th>\n",
       "      <th></th>\n",
       "    </tr>\n",
       "  </thead>\n",
       "  <tbody>\n",
       "    <tr>\n",
       "      <th>ABC01</th>\n",
       "      <td>NaN</td>\n",
       "      <td>NaN</td>\n",
       "      <td>NaN</td>\n",
       "      <td>NaN</td>\n",
       "    </tr>\n",
       "    <tr>\n",
       "      <th>ABC02</th>\n",
       "      <td>NaN</td>\n",
       "      <td>NaN</td>\n",
       "      <td>NaN</td>\n",
       "      <td>NaN</td>\n",
       "    </tr>\n",
       "    <tr>\n",
       "      <th>ABC03</th>\n",
       "      <td>NaN</td>\n",
       "      <td>NaN</td>\n",
       "      <td>NaN</td>\n",
       "      <td>NaN</td>\n",
       "    </tr>\n",
       "    <tr>\n",
       "      <th>ABC04</th>\n",
       "      <td>NaN</td>\n",
       "      <td>NaN</td>\n",
       "      <td>NaN</td>\n",
       "      <td>NaN</td>\n",
       "    </tr>\n",
       "    <tr>\n",
       "      <th>ABC05</th>\n",
       "      <td>NaN</td>\n",
       "      <td>NaN</td>\n",
       "      <td>NaN</td>\n",
       "      <td>NaN</td>\n",
       "    </tr>\n",
       "  </tbody>\n",
       "</table>\n",
       "</div>"
      ],
      "text/plain": [
       "       Symbol  P/E  EPS  MarketCap\n",
       "Symbol                            \n",
       "ABC01     NaN  NaN  NaN        NaN\n",
       "ABC02     NaN  NaN  NaN        NaN\n",
       "ABC03     NaN  NaN  NaN        NaN\n",
       "ABC04     NaN  NaN  NaN        NaN\n",
       "ABC05     NaN  NaN  NaN        NaN"
      ]
     },
     "execution_count": 147,
     "metadata": {},
     "output_type": "execute_result"
    }
   ],
   "source": [
    "fundamentals_copy.head()"
   ]
  },
  {
   "cell_type": "code",
   "execution_count": 148,
   "metadata": {},
   "outputs": [],
   "source": [
    "# Adding our data back to their respective columns\n",
    "fundamentals_copy['P/E']=fundamentals['P/E'].values\n",
    "fundamentals_copy['EPS']=fundamentals['EPS'].values\n",
    "fundamentals_copy['MarketCap']=fundamentals['MarketCap'].values"
   ]
  },
  {
   "cell_type": "code",
   "execution_count": 149,
   "metadata": {},
   "outputs": [
    {
     "data": {
      "text/html": [
       "<div>\n",
       "<style scoped>\n",
       "    .dataframe tbody tr th:only-of-type {\n",
       "        vertical-align: middle;\n",
       "    }\n",
       "\n",
       "    .dataframe tbody tr th {\n",
       "        vertical-align: top;\n",
       "    }\n",
       "\n",
       "    .dataframe thead th {\n",
       "        text-align: right;\n",
       "    }\n",
       "</style>\n",
       "<table border=\"1\" class=\"dataframe\">\n",
       "  <thead>\n",
       "    <tr style=\"text-align: right;\">\n",
       "      <th></th>\n",
       "      <th>Symbol</th>\n",
       "      <th>P/E</th>\n",
       "      <th>EPS</th>\n",
       "      <th>MarketCap</th>\n",
       "    </tr>\n",
       "    <tr>\n",
       "      <th>Symbol</th>\n",
       "      <th></th>\n",
       "      <th></th>\n",
       "      <th></th>\n",
       "      <th></th>\n",
       "    </tr>\n",
       "  </thead>\n",
       "  <tbody>\n",
       "    <tr>\n",
       "      <th>ABC01</th>\n",
       "      <td>NaN</td>\n",
       "      <td>23.17</td>\n",
       "      <td>8.16</td>\n",
       "      <td>112.74</td>\n",
       "    </tr>\n",
       "    <tr>\n",
       "      <th>ABC02</th>\n",
       "      <td>NaN</td>\n",
       "      <td>48.03</td>\n",
       "      <td>0.94</td>\n",
       "      <td>77.76</td>\n",
       "    </tr>\n",
       "    <tr>\n",
       "      <th>ABC03</th>\n",
       "      <td>NaN</td>\n",
       "      <td>17.55</td>\n",
       "      <td>3.63</td>\n",
       "      <td>101.52</td>\n",
       "    </tr>\n",
       "    <tr>\n",
       "      <th>ABC04</th>\n",
       "      <td>NaN</td>\n",
       "      <td>18.37</td>\n",
       "      <td>6.76</td>\n",
       "      <td>77.29</td>\n",
       "    </tr>\n",
       "    <tr>\n",
       "      <th>ABC05</th>\n",
       "      <td>NaN</td>\n",
       "      <td>37.55</td>\n",
       "      <td>1.28</td>\n",
       "      <td>36.13</td>\n",
       "    </tr>\n",
       "  </tbody>\n",
       "</table>\n",
       "</div>"
      ],
      "text/plain": [
       "       Symbol    P/E   EPS  MarketCap\n",
       "Symbol                               \n",
       "ABC01     NaN  23.17  8.16     112.74\n",
       "ABC02     NaN  48.03  0.94      77.76\n",
       "ABC03     NaN  17.55  3.63     101.52\n",
       "ABC04     NaN  18.37  6.76      77.29\n",
       "ABC05     NaN  37.55  1.28      36.13"
      ]
     },
     "execution_count": 149,
     "metadata": {},
     "output_type": "execute_result"
    }
   ],
   "source": [
    "fundamentals_copy.head()"
   ]
  },
  {
   "cell_type": "code",
   "execution_count": 150,
   "metadata": {},
   "outputs": [],
   "source": [
    "# Dropping symbol column\n",
    "fundamentals_copy.drop('Symbol',axis=1,inplace=True)"
   ]
  },
  {
   "cell_type": "code",
   "execution_count": 151,
   "metadata": {},
   "outputs": [
    {
     "data": {
      "image/png": "[encoded data removed]",
      "text/plain": [
       "<Figure size 800x480 with 1 Axes>"
      ]
     },
     "metadata": {},
     "output_type": "display_data"
    }
   ],
   "source": [
    "# Finding K\n",
    "find_k(fundamentals_copy.fillna(0))"
   ]
  },
  {
   "cell_type": "code",
   "execution_count": 152,
   "metadata": {},
   "outputs": [],
   "source": [
    "# Initialzing K-Means algorithm: with k as 15\n",
    "kmeans = KMeans(n_clusters=15,random_state=123)"
   ]
  },
  {
   "cell_type": "code",
   "execution_count": 153,
   "metadata": {},
   "outputs": [
    {
     "data": {
      "text/plain": [
       "KMeans(algorithm='auto', copy_x=True, init='k-means++', max_iter=300,\n",
       "    n_clusters=15, n_init=10, n_jobs=1, precompute_distances='auto',\n",
       "    random_state=123, tol=0.0001, verbose=0)"
      ]
     },
     "execution_count": 153,
     "metadata": {},
     "output_type": "execute_result"
    }
   ],
   "source": [
    "# Fitting kmeans to our fundamentals data\n",
    "kmeans.fit(fundamentals_copy.fillna(0))"
   ]
  },
  {
   "cell_type": "code",
   "execution_count": 154,
   "metadata": {},
   "outputs": [
    {
     "data": {
      "text/plain": [
       "array([12, 12, 12, 12,  8,  5,  0,  5, 11,  0,  5,  8,  5,  1,  5, 11,  5,\n",
       "        1,  5, 12,  5,  5,  8,  2,  2,  3, 10,  5,  8,  1,  0,  0,  1,  5,\n",
       "        8,  8,  5, 12,  5,  8,  8,  0,  8, 11, 11, 13,  8,  8, 11,  5, 11,\n",
       "        7, 11,  0, 11,  8,  8,  5, 11,  1,  7,  5,  8,  8,  8, 11, 11, 11,\n",
       "        0,  0, 11, 12,  1,  5,  1, 12, 12, 11,  5,  5, 11,  5,  0,  8,  5,\n",
       "        8,  0,  5,  5,  8, 12,  5,  5,  5,  5, 11,  0, 12, 11,  3,  4,  0,\n",
       "        5,  8, 11,  5,  5,  3,  3,  5,  5,  8,  5,  5,  3,  8,  0,  3,  5,\n",
       "        5, 11,  0,  8,  8,  8,  0, 11,  1,  5,  0,  8, 12, 11,  0,  5, 11,\n",
       "        8,  8,  8,  5, 11,  1,  8, 11, 11,  8,  5,  0,  5, 12,  5,  5,  0,\n",
       "        0,  5,  5, 11,  8,  8,  8,  8,  5,  8,  8, 11, 11,  0, 11,  5,  6,\n",
       "       11,  5,  8,  5,  8,  1,  5,  8,  5,  9,  5,  9,  5,  5,  0,  1,  8,\n",
       "       11, 11,  8,  5,  5,  5,  5, 11, 11,  0,  5,  5,  8, 11, 11, 11,  5,\n",
       "        0,  7,  8,  8,  0,  5, 12,  1, 12, 11,  5,  0, 11, 11,  5,  5,  5,\n",
       "        5,  8,  5, 11,  5, 11,  8,  5,  3, 12,  5,  5,  8,  1,  5,  1,  0,\n",
       "        1,  6,  8,  3,  5,  3,  5, 11,  5,  8,  8, 11,  1,  5,  5,  5,  9,\n",
       "        8,  9,  5,  5,  5,  5,  0,  5,  1,  5, 11, 12,  8, 11,  5,  5,  5,\n",
       "        5, 11,  1,  5, 12, 11,  5,  5, 12,  5,  0,  8,  8,  5, 11,  5, 11,\n",
       "        8,  8,  8,  5,  5, 12,  5,  5, 12,  8,  5, 12,  3,  1,  5, 11,  6,\n",
       "       11,  2,  5, 11,  8,  0,  0,  5,  1, 12,  5, 11,  1,  1, 11, 11,  5,\n",
       "       14,  5, 11, 11, 11, 11,  0,  5, 12,  5, 11,  5,  8,  8,  8, 11,  5,\n",
       "        0,  8,  0,  8,  5,  3,  1,  5,  5,  5,  0,  5,  5,  3,  5, 11,  3,\n",
       "        8,  3,  8,  5,  8,  0,  5,  8,  8,  8, 12, 11,  7,  8,  8,  0,  8,\n",
       "        8, 11, 11, 11, 12,  5,  5, 11,  0,  1,  1,  5,  1,  5,  5, 12,  5,\n",
       "        5,  5,  5,  8,  8, 11,  8, 14,  5, 12, 11,  5,  5,  8,  8, 11,  0,\n",
       "        5,  5,  5,  0,  8, 11,  8, 11, 12,  8,  5,  0,  8, 11,  8,  8, 11,\n",
       "        8,  8, 11,  5, 11, 12, 11,  0,  5,  5,  5,  5,  8,  3,  0,  5, 12,\n",
       "        0,  5,  5,  5,  5, 11,  1,  0,  0,  8, 12,  5,  5,  5,  5, 12,  8,\n",
       "        3, 12,  5, 12,  5, 11, 11,  8,  8,  5,  5,  5,  5,  3, 11, 11,  3,\n",
       "        5,  5,  3, 12,  8,  5,  5,  7,  8, 11,  5,  1,  8, 11,  5, 11,  1,\n",
       "       11,  5,  8, 11,  5,  5,  5,  0,  8,  1,  5,  8])"
      ]
     },
     "execution_count": 154,
     "metadata": {},
     "output_type": "execute_result"
    }
   ],
   "source": [
    "# Getting cluster labels\n",
    "kmeans.labels_"
   ]
  },
  {
   "cell_type": "code",
   "execution_count": 155,
   "metadata": {},
   "outputs": [],
   "source": [
    "# Adding cluster labels to dataframe\n",
    "fundamentals_copy['Cluster']=kmeans.labels_"
   ]
  },
  {
   "cell_type": "code",
   "execution_count": 156,
   "metadata": {},
   "outputs": [
    {
     "data": {
      "text/html": [
       "<div>\n",
       "<style scoped>\n",
       "    .dataframe tbody tr th:only-of-type {\n",
       "        vertical-align: middle;\n",
       "    }\n",
       "\n",
       "    .dataframe tbody tr th {\n",
       "        vertical-align: top;\n",
       "    }\n",
       "\n",
       "    .dataframe thead th {\n",
       "        text-align: right;\n",
       "    }\n",
       "</style>\n",
       "<table border=\"1\" class=\"dataframe\">\n",
       "  <thead>\n",
       "    <tr style=\"text-align: right;\">\n",
       "      <th></th>\n",
       "      <th>P/E</th>\n",
       "      <th>EPS</th>\n",
       "      <th>MarketCap</th>\n",
       "      <th>Cluster</th>\n",
       "    </tr>\n",
       "    <tr>\n",
       "      <th>Symbol</th>\n",
       "      <th></th>\n",
       "      <th></th>\n",
       "      <th></th>\n",
       "      <th></th>\n",
       "    </tr>\n",
       "  </thead>\n",
       "  <tbody>\n",
       "    <tr>\n",
       "      <th>ABC01</th>\n",
       "      <td>23.17</td>\n",
       "      <td>8.16</td>\n",
       "      <td>112.74</td>\n",
       "      <td>12</td>\n",
       "    </tr>\n",
       "    <tr>\n",
       "      <th>ABC02</th>\n",
       "      <td>48.03</td>\n",
       "      <td>0.94</td>\n",
       "      <td>77.76</td>\n",
       "      <td>12</td>\n",
       "    </tr>\n",
       "    <tr>\n",
       "      <th>ABC03</th>\n",
       "      <td>17.55</td>\n",
       "      <td>3.63</td>\n",
       "      <td>101.52</td>\n",
       "      <td>12</td>\n",
       "    </tr>\n",
       "    <tr>\n",
       "      <th>ABC04</th>\n",
       "      <td>18.37</td>\n",
       "      <td>6.76</td>\n",
       "      <td>77.29</td>\n",
       "      <td>12</td>\n",
       "    </tr>\n",
       "    <tr>\n",
       "      <th>ABC05</th>\n",
       "      <td>37.55</td>\n",
       "      <td>1.28</td>\n",
       "      <td>36.13</td>\n",
       "      <td>8</td>\n",
       "    </tr>\n",
       "  </tbody>\n",
       "</table>\n",
       "</div>"
      ],
      "text/plain": [
       "          P/E   EPS  MarketCap  Cluster\n",
       "Symbol                                 \n",
       "ABC01   23.17  8.16     112.74       12\n",
       "ABC02   48.03  0.94      77.76       12\n",
       "ABC03   17.55  3.63     101.52       12\n",
       "ABC04   18.37  6.76      77.29       12\n",
       "ABC05   37.55  1.28      36.13        8"
      ]
     },
     "execution_count": 156,
     "metadata": {},
     "output_type": "execute_result"
    }
   ],
   "source": [
    "# Reviewing fundamentals dataframe\n",
    "fundamentals_copy.head()"
   ]
  },
  {
   "cell_type": "code",
   "execution_count": 157,
   "metadata": {},
   "outputs": [],
   "source": [
    "# Creating dataframe to hold data\n",
    "clusters_df = pd.DataFrame()\n",
    "# Grouping our data by cluster for clusters with atleast 2 stocks in it.\n",
    "clusters_df = pd.concat(i for clusters_df, i in fundamentals_copy.groupby(fundamentals_copy['Cluster']) if len(i) >1)"
   ]
  },
  {
   "cell_type": "code",
   "execution_count": 158,
   "metadata": {},
   "outputs": [
    {
     "data": {
      "text/html": [
       "<div>\n",
       "<style scoped>\n",
       "    .dataframe tbody tr th:only-of-type {\n",
       "        vertical-align: middle;\n",
       "    }\n",
       "\n",
       "    .dataframe tbody tr th {\n",
       "        vertical-align: top;\n",
       "    }\n",
       "\n",
       "    .dataframe thead th {\n",
       "        text-align: right;\n",
       "    }\n",
       "</style>\n",
       "<table border=\"1\" class=\"dataframe\">\n",
       "  <thead>\n",
       "    <tr style=\"text-align: right;\">\n",
       "      <th></th>\n",
       "      <th>P/E</th>\n",
       "      <th>EPS</th>\n",
       "      <th>MarketCap</th>\n",
       "      <th>Cluster</th>\n",
       "    </tr>\n",
       "    <tr>\n",
       "      <th>Symbol</th>\n",
       "      <th></th>\n",
       "      <th></th>\n",
       "      <th></th>\n",
       "      <th></th>\n",
       "    </tr>\n",
       "  </thead>\n",
       "  <tbody>\n",
       "    <tr>\n",
       "      <th>ABC07</th>\n",
       "      <td>51.72</td>\n",
       "      <td>2.32</td>\n",
       "      <td>59.28</td>\n",
       "      <td>0</td>\n",
       "    </tr>\n",
       "    <tr>\n",
       "      <th>ABC10</th>\n",
       "      <td>20.37</td>\n",
       "      <td>6.41</td>\n",
       "      <td>45.93</td>\n",
       "      <td>0</td>\n",
       "    </tr>\n",
       "    <tr>\n",
       "      <th>ABC31</th>\n",
       "      <td>14.08</td>\n",
       "      <td>5.65</td>\n",
       "      <td>71.72</td>\n",
       "      <td>0</td>\n",
       "    </tr>\n",
       "    <tr>\n",
       "      <th>ABC32</th>\n",
       "      <td>NaN</td>\n",
       "      <td>-0.78</td>\n",
       "      <td>62.15</td>\n",
       "      <td>0</td>\n",
       "    </tr>\n",
       "    <tr>\n",
       "      <th>ABC42</th>\n",
       "      <td>18.02</td>\n",
       "      <td>9.21</td>\n",
       "      <td>43.89</td>\n",
       "      <td>0</td>\n",
       "    </tr>\n",
       "  </tbody>\n",
       "</table>\n",
       "</div>"
      ],
      "text/plain": [
       "          P/E   EPS  MarketCap  Cluster\n",
       "Symbol                                 \n",
       "ABC07   51.72  2.32      59.28        0\n",
       "ABC10   20.37  6.41      45.93        0\n",
       "ABC31   14.08  5.65      71.72        0\n",
       "ABC32     NaN -0.78      62.15        0\n",
       "ABC42   18.02  9.21      43.89        0"
      ]
     },
     "execution_count": 158,
     "metadata": {},
     "output_type": "execute_result"
    }
   ],
   "source": [
    "# Checking the head of clusters df\n",
    "clusters_df.head()"
   ]
  },
  {
   "cell_type": "code",
   "execution_count": 131,
   "metadata": {},
   "outputs": [],
   "source": [
    "# Creating method to identify each possible pair \n",
    "def create_pairs(symbolList):\n",
    "    #creating a list to hold each possible pair\n",
    "    pairs=[]\n",
    "    #initializing placeholders for the symbols in each pair\n",
    "    x=0\n",
    "    y=0\n",
    "    for count,symbol in enumerate(symbolList):\n",
    "        for nextCount,nextSymbol in enumerate(symbolList):\n",
    "            x=symbol\n",
    "            y=nextSymbol\n",
    "            if x !=y:\n",
    "                pairs.append([x,y])          \n",
    "    \n",
    "    return pairs"
   ]
  },
  {
   "cell_type": "code",
   "execution_count": 159,
   "metadata": {},
   "outputs": [],
   "source": [
    "# Creating list of symbols from cluster 0\n",
    "# Now we will use new names for the companies in Cluster 01 as follows:\n",
    "# 'ABC07': 'COM01'\n",
    "# 'ABC10': 'COM02'\n",
    "# 'ABC31': 'COM03'\n",
    "# 'ABC32': 'COM04'\n",
    "# 'ABC42': 'COM05'\n",
    "\n",
    "symbol_list_0=['COM01','COM02','COM03','COM04','COM05']"
   ]
  },
  {
   "cell_type": "code",
   "execution_count": 160,
   "metadata": {},
   "outputs": [],
   "source": [
    "# List of lists of pairs\n",
    "all_pairs=create_pairs(symbol_list_0)"
   ]
  },
  {
   "cell_type": "code",
   "execution_count": 161,
   "metadata": {},
   "outputs": [
    {
     "data": {
      "text/plain": [
       "[['COM01', 'COM02'],\n",
       " ['COM01', 'COM03'],\n",
       " ['COM01', 'COM04'],\n",
       " ['COM01', 'COM05'],\n",
       " ['COM02', 'COM01'],\n",
       " ['COM02', 'COM03'],\n",
       " ['COM02', 'COM04'],\n",
       " ['COM02', 'COM05'],\n",
       " ['COM03', 'COM01'],\n",
       " ['COM03', 'COM02'],\n",
       " ['COM03', 'COM04'],\n",
       " ['COM03', 'COM05'],\n",
       " ['COM04', 'COM01'],\n",
       " ['COM04', 'COM02'],\n",
       " ['COM04', 'COM03'],\n",
       " ['COM04', 'COM05'],\n",
       " ['COM05', 'COM01'],\n",
       " ['COM05', 'COM02'],\n",
       " ['COM05', 'COM03'],\n",
       " ['COM05', 'COM04']]"
      ]
     },
     "execution_count": 161,
     "metadata": {},
     "output_type": "execute_result"
    }
   ],
   "source": [
    "# Printing list of all_pairs from cluster 0\n",
    "all_pairs"
   ]
  },
  {
   "cell_type": "code",
   "execution_count": 162,
   "metadata": {},
   "outputs": [],
   "source": [
    "#initializing our stock variables\n",
    "COM01=pd.read_csv('Company_07.csv')\n",
    "COM02=pd.read_csv('Company_10.csv')\n",
    "COM03=pd.read_csv('Company_31.csv')\n",
    "COM04=pd.read_csv('Company_32.csv')\n",
    "COM05=pd.read_csv('Company_42.csv')"
   ]
  },
  {
   "cell_type": "code",
   "execution_count": 136,
   "metadata": {},
   "outputs": [
    {
     "data": {
      "text/html": [
       "<div>\n",
       "<style scoped>\n",
       "    .dataframe tbody tr th:only-of-type {\n",
       "        vertical-align: middle;\n",
       "    }\n",
       "\n",
       "    .dataframe tbody tr th {\n",
       "        vertical-align: top;\n",
       "    }\n",
       "\n",
       "    .dataframe thead th {\n",
       "        text-align: right;\n",
       "    }\n",
       "</style>\n",
       "<table border=\"1\" class=\"dataframe\">\n",
       "  <thead>\n",
       "    <tr style=\"text-align: right;\">\n",
       "      <th></th>\n",
       "      <th>Date</th>\n",
       "      <th>Time</th>\n",
       "      <th>Open</th>\n",
       "      <th>High</th>\n",
       "      <th>Low</th>\n",
       "      <th>Close</th>\n",
       "      <th>Volume</th>\n",
       "      <th>NumberOfTrades</th>\n",
       "      <th>BidVolume</th>\n",
       "      <th>AskVolume</th>\n",
       "    </tr>\n",
       "  </thead>\n",
       "  <tbody>\n",
       "    <tr>\n",
       "      <th>0</th>\n",
       "      <td>5/1/2018</td>\n",
       "      <td>08:30:00</td>\n",
       "      <td>181.93</td>\n",
       "      <td>183.74</td>\n",
       "      <td>181.84</td>\n",
       "      <td>183.13</td>\n",
       "      <td>83862</td>\n",
       "      <td>396</td>\n",
       "      <td>22941</td>\n",
       "      <td>60921</td>\n",
       "    </tr>\n",
       "    <tr>\n",
       "      <th>1</th>\n",
       "      <td>5/1/2018</td>\n",
       "      <td>08:35:00</td>\n",
       "      <td>183.05</td>\n",
       "      <td>183.48</td>\n",
       "      <td>182.66</td>\n",
       "      <td>182.89</td>\n",
       "      <td>31593</td>\n",
       "      <td>238</td>\n",
       "      <td>17840</td>\n",
       "      <td>13753</td>\n",
       "    </tr>\n",
       "    <tr>\n",
       "      <th>2</th>\n",
       "      <td>5/1/2018</td>\n",
       "      <td>08:40:00</td>\n",
       "      <td>182.84</td>\n",
       "      <td>183.35</td>\n",
       "      <td>182.70</td>\n",
       "      <td>183.22</td>\n",
       "      <td>49654</td>\n",
       "      <td>345</td>\n",
       "      <td>26962</td>\n",
       "      <td>22692</td>\n",
       "    </tr>\n",
       "    <tr>\n",
       "      <th>3</th>\n",
       "      <td>5/1/2018</td>\n",
       "      <td>08:45:00</td>\n",
       "      <td>183.25</td>\n",
       "      <td>183.73</td>\n",
       "      <td>183.06</td>\n",
       "      <td>183.73</td>\n",
       "      <td>51108</td>\n",
       "      <td>314</td>\n",
       "      <td>21566</td>\n",
       "      <td>29542</td>\n",
       "    </tr>\n",
       "    <tr>\n",
       "      <th>4</th>\n",
       "      <td>5/1/2018</td>\n",
       "      <td>08:50:00</td>\n",
       "      <td>183.66</td>\n",
       "      <td>184.00</td>\n",
       "      <td>183.56</td>\n",
       "      <td>183.90</td>\n",
       "      <td>27476</td>\n",
       "      <td>196</td>\n",
       "      <td>15287</td>\n",
       "      <td>12189</td>\n",
       "    </tr>\n",
       "  </tbody>\n",
       "</table>\n",
       "</div>"
      ],
      "text/plain": [
       "       Date       Time    Open    High     Low   Close   Volume  \\\n",
       "0  5/1/2018   08:30:00  181.93  183.74  181.84  183.13    83862   \n",
       "1  5/1/2018   08:35:00  183.05  183.48  182.66  182.89    31593   \n",
       "2  5/1/2018   08:40:00  182.84  183.35  182.70  183.22    49654   \n",
       "3  5/1/2018   08:45:00  183.25  183.73  183.06  183.73    51108   \n",
       "4  5/1/2018   08:50:00  183.66  184.00  183.56  183.90    27476   \n",
       "\n",
       "    NumberOfTrades   BidVolume   AskVolume  \n",
       "0              396       22941       60921  \n",
       "1              238       17840       13753  \n",
       "2              345       26962       22692  \n",
       "3              314       21566       29542  \n",
       "4              196       15287       12189  "
      ]
     },
     "execution_count": 136,
     "metadata": {},
     "output_type": "execute_result"
    }
   ],
   "source": [
    "# Checking head of COM7\n",
    "COM01.head()"
   ]
  },
  {
   "cell_type": "code",
   "execution_count": 137,
   "metadata": {},
   "outputs": [
    {
     "data": {
      "text/html": [
       "<div>\n",
       "<style scoped>\n",
       "    .dataframe tbody tr th:only-of-type {\n",
       "        vertical-align: middle;\n",
       "    }\n",
       "\n",
       "    .dataframe tbody tr th {\n",
       "        vertical-align: top;\n",
       "    }\n",
       "\n",
       "    .dataframe thead th {\n",
       "        text-align: right;\n",
       "    }\n",
       "</style>\n",
       "<table border=\"1\" class=\"dataframe\">\n",
       "  <thead>\n",
       "    <tr style=\"text-align: right;\">\n",
       "      <th></th>\n",
       "      <th>Date</th>\n",
       "      <th>Time</th>\n",
       "      <th>Open</th>\n",
       "      <th>High</th>\n",
       "      <th>Low</th>\n",
       "      <th>Close</th>\n",
       "      <th>Volume</th>\n",
       "      <th>NumberOfTrades</th>\n",
       "      <th>BidVolume</th>\n",
       "      <th>AskVolume</th>\n",
       "    </tr>\n",
       "  </thead>\n",
       "  <tbody>\n",
       "    <tr>\n",
       "      <th>0</th>\n",
       "      <td>5/1/2018</td>\n",
       "      <td>08:30:00</td>\n",
       "      <td>60.42</td>\n",
       "      <td>60.42</td>\n",
       "      <td>60.28</td>\n",
       "      <td>60.36</td>\n",
       "      <td>27675</td>\n",
       "      <td>241</td>\n",
       "      <td>14300</td>\n",
       "      <td>13375</td>\n",
       "    </tr>\n",
       "    <tr>\n",
       "      <th>1</th>\n",
       "      <td>5/1/2018</td>\n",
       "      <td>08:35:00</td>\n",
       "      <td>60.38</td>\n",
       "      <td>60.63</td>\n",
       "      <td>60.38</td>\n",
       "      <td>60.61</td>\n",
       "      <td>57163</td>\n",
       "      <td>367</td>\n",
       "      <td>25182</td>\n",
       "      <td>31981</td>\n",
       "    </tr>\n",
       "    <tr>\n",
       "      <th>2</th>\n",
       "      <td>5/1/2018</td>\n",
       "      <td>08:40:00</td>\n",
       "      <td>60.68</td>\n",
       "      <td>60.77</td>\n",
       "      <td>60.60</td>\n",
       "      <td>60.77</td>\n",
       "      <td>47235</td>\n",
       "      <td>209</td>\n",
       "      <td>35496</td>\n",
       "      <td>11739</td>\n",
       "    </tr>\n",
       "    <tr>\n",
       "      <th>3</th>\n",
       "      <td>5/1/2018</td>\n",
       "      <td>08:45:00</td>\n",
       "      <td>60.80</td>\n",
       "      <td>60.85</td>\n",
       "      <td>60.76</td>\n",
       "      <td>60.81</td>\n",
       "      <td>41935</td>\n",
       "      <td>328</td>\n",
       "      <td>22825</td>\n",
       "      <td>19110</td>\n",
       "    </tr>\n",
       "    <tr>\n",
       "      <th>4</th>\n",
       "      <td>5/1/2018</td>\n",
       "      <td>08:50:00</td>\n",
       "      <td>60.81</td>\n",
       "      <td>60.84</td>\n",
       "      <td>60.77</td>\n",
       "      <td>60.80</td>\n",
       "      <td>49213</td>\n",
       "      <td>364</td>\n",
       "      <td>25786</td>\n",
       "      <td>23427</td>\n",
       "    </tr>\n",
       "  </tbody>\n",
       "</table>\n",
       "</div>"
      ],
      "text/plain": [
       "       Date       Time   Open   High    Low   Close   Volume   NumberOfTrades  \\\n",
       "0  5/1/2018   08:30:00  60.42  60.42  60.28   60.36    27675              241   \n",
       "1  5/1/2018   08:35:00  60.38  60.63  60.38   60.61    57163              367   \n",
       "2  5/1/2018   08:40:00  60.68  60.77  60.60   60.77    47235              209   \n",
       "3  5/1/2018   08:45:00  60.80  60.85  60.76   60.81    41935              328   \n",
       "4  5/1/2018   08:50:00  60.81  60.84  60.77   60.80    49213              364   \n",
       "\n",
       "    BidVolume   AskVolume  \n",
       "0       14300       13375  \n",
       "1       25182       31981  \n",
       "2       35496       11739  \n",
       "3       22825       19110  \n",
       "4       25786       23427  "
      ]
     },
     "execution_count": 137,
     "metadata": {},
     "output_type": "execute_result"
    }
   ],
   "source": [
    "# Checking head of COM7\n",
    "COM02.head()"
   ]
  },
  {
   "cell_type": "code",
   "execution_count": 138,
   "metadata": {},
   "outputs": [
    {
     "data": {
      "text/html": [
       "<div>\n",
       "<style scoped>\n",
       "    .dataframe tbody tr th:only-of-type {\n",
       "        vertical-align: middle;\n",
       "    }\n",
       "\n",
       "    .dataframe tbody tr th {\n",
       "        vertical-align: top;\n",
       "    }\n",
       "\n",
       "    .dataframe thead th {\n",
       "        text-align: right;\n",
       "    }\n",
       "</style>\n",
       "<table border=\"1\" class=\"dataframe\">\n",
       "  <thead>\n",
       "    <tr style=\"text-align: right;\">\n",
       "      <th></th>\n",
       "      <th>Date</th>\n",
       "      <th>Time</th>\n",
       "      <th>Open</th>\n",
       "      <th>High</th>\n",
       "      <th>Low</th>\n",
       "      <th>Close</th>\n",
       "      <th>Volume</th>\n",
       "      <th>NumberOfTrades</th>\n",
       "      <th>BidVolume</th>\n",
       "      <th>AskVolume</th>\n",
       "    </tr>\n",
       "  </thead>\n",
       "  <tbody>\n",
       "    <tr>\n",
       "      <th>0</th>\n",
       "      <td>5/1/2018</td>\n",
       "      <td>08:30:00</td>\n",
       "      <td>181.87</td>\n",
       "      <td>183.45</td>\n",
       "      <td>181.84</td>\n",
       "      <td>183.45</td>\n",
       "      <td>92724</td>\n",
       "      <td>515</td>\n",
       "      <td>21862</td>\n",
       "      <td>70862</td>\n",
       "    </tr>\n",
       "    <tr>\n",
       "      <th>1</th>\n",
       "      <td>5/1/2018</td>\n",
       "      <td>08:35:00</td>\n",
       "      <td>183.44</td>\n",
       "      <td>183.84</td>\n",
       "      <td>183.03</td>\n",
       "      <td>183.68</td>\n",
       "      <td>115258</td>\n",
       "      <td>846</td>\n",
       "      <td>57022</td>\n",
       "      <td>58236</td>\n",
       "    </tr>\n",
       "    <tr>\n",
       "      <th>2</th>\n",
       "      <td>5/1/2018</td>\n",
       "      <td>08:40:00</td>\n",
       "      <td>183.73</td>\n",
       "      <td>183.96</td>\n",
       "      <td>183.46</td>\n",
       "      <td>183.80</td>\n",
       "      <td>71755</td>\n",
       "      <td>501</td>\n",
       "      <td>37345</td>\n",
       "      <td>34410</td>\n",
       "    </tr>\n",
       "    <tr>\n",
       "      <th>3</th>\n",
       "      <td>5/1/2018</td>\n",
       "      <td>08:45:00</td>\n",
       "      <td>183.88</td>\n",
       "      <td>184.12</td>\n",
       "      <td>183.56</td>\n",
       "      <td>183.82</td>\n",
       "      <td>107026</td>\n",
       "      <td>841</td>\n",
       "      <td>50234</td>\n",
       "      <td>56792</td>\n",
       "    </tr>\n",
       "    <tr>\n",
       "      <th>4</th>\n",
       "      <td>5/1/2018</td>\n",
       "      <td>08:50:00</td>\n",
       "      <td>183.73</td>\n",
       "      <td>184.17</td>\n",
       "      <td>183.70</td>\n",
       "      <td>183.93</td>\n",
       "      <td>23541</td>\n",
       "      <td>193</td>\n",
       "      <td>11710</td>\n",
       "      <td>11831</td>\n",
       "    </tr>\n",
       "  </tbody>\n",
       "</table>\n",
       "</div>"
      ],
      "text/plain": [
       "       Date       Time    Open    High     Low   Close   Volume  \\\n",
       "0  5/1/2018   08:30:00  181.87  183.45  181.84  183.45    92724   \n",
       "1  5/1/2018   08:35:00  183.44  183.84  183.03  183.68   115258   \n",
       "2  5/1/2018   08:40:00  183.73  183.96  183.46  183.80    71755   \n",
       "3  5/1/2018   08:45:00  183.88  184.12  183.56  183.82   107026   \n",
       "4  5/1/2018   08:50:00  183.73  184.17  183.70  183.93    23541   \n",
       "\n",
       "    NumberOfTrades   BidVolume   AskVolume  \n",
       "0              515       21862       70862  \n",
       "1              846       57022       58236  \n",
       "2              501       37345       34410  \n",
       "3              841       50234       56792  \n",
       "4              193       11710       11831  "
      ]
     },
     "execution_count": 138,
     "metadata": {},
     "output_type": "execute_result"
    }
   ],
   "source": [
    "# Checking head of COM7\n",
    "COM03.head()"
   ]
  },
  {
   "cell_type": "code",
   "execution_count": 139,
   "metadata": {},
   "outputs": [
    {
     "data": {
      "text/html": [
       "<div>\n",
       "<style scoped>\n",
       "    .dataframe tbody tr th:only-of-type {\n",
       "        vertical-align: middle;\n",
       "    }\n",
       "\n",
       "    .dataframe tbody tr th {\n",
       "        vertical-align: top;\n",
       "    }\n",
       "\n",
       "    .dataframe thead th {\n",
       "        text-align: right;\n",
       "    }\n",
       "</style>\n",
       "<table border=\"1\" class=\"dataframe\">\n",
       "  <thead>\n",
       "    <tr style=\"text-align: right;\">\n",
       "      <th></th>\n",
       "      <th>Date</th>\n",
       "      <th>Time</th>\n",
       "      <th>Open</th>\n",
       "      <th>High</th>\n",
       "      <th>Low</th>\n",
       "      <th>Close</th>\n",
       "      <th>Volume</th>\n",
       "      <th>NumberOfTrades</th>\n",
       "      <th>BidVolume</th>\n",
       "      <th>AskVolume</th>\n",
       "    </tr>\n",
       "  </thead>\n",
       "  <tbody>\n",
       "    <tr>\n",
       "      <th>0</th>\n",
       "      <td>5/1/2018</td>\n",
       "      <td>08:30:00</td>\n",
       "      <td>54.50</td>\n",
       "      <td>54.94</td>\n",
       "      <td>54.47</td>\n",
       "      <td>54.67</td>\n",
       "      <td>594227</td>\n",
       "      <td>2053</td>\n",
       "      <td>143498</td>\n",
       "      <td>450729</td>\n",
       "    </tr>\n",
       "    <tr>\n",
       "      <th>1</th>\n",
       "      <td>5/1/2018</td>\n",
       "      <td>08:35:00</td>\n",
       "      <td>54.66</td>\n",
       "      <td>54.79</td>\n",
       "      <td>54.51</td>\n",
       "      <td>54.51</td>\n",
       "      <td>239644</td>\n",
       "      <td>1315</td>\n",
       "      <td>125885</td>\n",
       "      <td>113759</td>\n",
       "    </tr>\n",
       "    <tr>\n",
       "      <th>2</th>\n",
       "      <td>5/1/2018</td>\n",
       "      <td>08:40:00</td>\n",
       "      <td>54.52</td>\n",
       "      <td>54.54</td>\n",
       "      <td>54.21</td>\n",
       "      <td>54.25</td>\n",
       "      <td>339909</td>\n",
       "      <td>1881</td>\n",
       "      <td>169387</td>\n",
       "      <td>170522</td>\n",
       "    </tr>\n",
       "    <tr>\n",
       "      <th>3</th>\n",
       "      <td>5/1/2018</td>\n",
       "      <td>08:45:00</td>\n",
       "      <td>54.22</td>\n",
       "      <td>54.29</td>\n",
       "      <td>53.98</td>\n",
       "      <td>54.08</td>\n",
       "      <td>251866</td>\n",
       "      <td>1351</td>\n",
       "      <td>155982</td>\n",
       "      <td>95884</td>\n",
       "    </tr>\n",
       "    <tr>\n",
       "      <th>4</th>\n",
       "      <td>5/1/2018</td>\n",
       "      <td>08:50:00</td>\n",
       "      <td>54.08</td>\n",
       "      <td>54.28</td>\n",
       "      <td>54.03</td>\n",
       "      <td>54.27</td>\n",
       "      <td>311989</td>\n",
       "      <td>1126</td>\n",
       "      <td>191131</td>\n",
       "      <td>120858</td>\n",
       "    </tr>\n",
       "  </tbody>\n",
       "</table>\n",
       "</div>"
      ],
      "text/plain": [
       "       Date       Time   Open   High    Low   Close   Volume   NumberOfTrades  \\\n",
       "0  5/1/2018   08:30:00  54.50  54.94  54.47   54.67   594227             2053   \n",
       "1  5/1/2018   08:35:00  54.66  54.79  54.51   54.51   239644             1315   \n",
       "2  5/1/2018   08:40:00  54.52  54.54  54.21   54.25   339909             1881   \n",
       "3  5/1/2018   08:45:00  54.22  54.29  53.98   54.08   251866             1351   \n",
       "4  5/1/2018   08:50:00  54.08  54.28  54.03   54.27   311989             1126   \n",
       "\n",
       "    BidVolume   AskVolume  \n",
       "0      143498      450729  \n",
       "1      125885      113759  \n",
       "2      169387      170522  \n",
       "3      155982       95884  \n",
       "4      191131      120858  "
      ]
     },
     "execution_count": 139,
     "metadata": {},
     "output_type": "execute_result"
    }
   ],
   "source": [
    "# Checking head of COM7\n",
    "COM04.head()"
   ]
  },
  {
   "cell_type": "code",
   "execution_count": 140,
   "metadata": {},
   "outputs": [
    {
     "data": {
      "text/html": [
       "<div>\n",
       "<style scoped>\n",
       "    .dataframe tbody tr th:only-of-type {\n",
       "        vertical-align: middle;\n",
       "    }\n",
       "\n",
       "    .dataframe tbody tr th {\n",
       "        vertical-align: top;\n",
       "    }\n",
       "\n",
       "    .dataframe thead th {\n",
       "        text-align: right;\n",
       "    }\n",
       "</style>\n",
       "<table border=\"1\" class=\"dataframe\">\n",
       "  <thead>\n",
       "    <tr style=\"text-align: right;\">\n",
       "      <th></th>\n",
       "      <th>Date</th>\n",
       "      <th>Time</th>\n",
       "      <th>Open</th>\n",
       "      <th>High</th>\n",
       "      <th>Low</th>\n",
       "      <th>Close</th>\n",
       "      <th>Volume</th>\n",
       "      <th>NumberOfTrades</th>\n",
       "      <th>BidVolume</th>\n",
       "      <th>AskVolume</th>\n",
       "    </tr>\n",
       "  </thead>\n",
       "  <tbody>\n",
       "    <tr>\n",
       "      <th>0</th>\n",
       "      <td>5/1/2018</td>\n",
       "      <td>08:30:00</td>\n",
       "      <td>229.09</td>\n",
       "      <td>229.75</td>\n",
       "      <td>229.07</td>\n",
       "      <td>229.62</td>\n",
       "      <td>10673</td>\n",
       "      <td>89</td>\n",
       "      <td>1600</td>\n",
       "      <td>9073</td>\n",
       "    </tr>\n",
       "    <tr>\n",
       "      <th>1</th>\n",
       "      <td>5/1/2018</td>\n",
       "      <td>08:35:00</td>\n",
       "      <td>229.43</td>\n",
       "      <td>229.97</td>\n",
       "      <td>229.23</td>\n",
       "      <td>229.63</td>\n",
       "      <td>11385</td>\n",
       "      <td>102</td>\n",
       "      <td>6185</td>\n",
       "      <td>5200</td>\n",
       "    </tr>\n",
       "    <tr>\n",
       "      <th>2</th>\n",
       "      <td>5/1/2018</td>\n",
       "      <td>08:40:00</td>\n",
       "      <td>229.30</td>\n",
       "      <td>229.85</td>\n",
       "      <td>229.02</td>\n",
       "      <td>229.70</td>\n",
       "      <td>14037</td>\n",
       "      <td>119</td>\n",
       "      <td>10927</td>\n",
       "      <td>3110</td>\n",
       "    </tr>\n",
       "    <tr>\n",
       "      <th>3</th>\n",
       "      <td>5/1/2018</td>\n",
       "      <td>08:45:00</td>\n",
       "      <td>229.59</td>\n",
       "      <td>229.85</td>\n",
       "      <td>229.47</td>\n",
       "      <td>229.65</td>\n",
       "      <td>10691</td>\n",
       "      <td>98</td>\n",
       "      <td>5758</td>\n",
       "      <td>4933</td>\n",
       "    </tr>\n",
       "    <tr>\n",
       "      <th>4</th>\n",
       "      <td>5/1/2018</td>\n",
       "      <td>08:50:00</td>\n",
       "      <td>229.64</td>\n",
       "      <td>229.89</td>\n",
       "      <td>229.51</td>\n",
       "      <td>229.70</td>\n",
       "      <td>10479</td>\n",
       "      <td>94</td>\n",
       "      <td>6579</td>\n",
       "      <td>3900</td>\n",
       "    </tr>\n",
       "  </tbody>\n",
       "</table>\n",
       "</div>"
      ],
      "text/plain": [
       "       Date       Time    Open    High     Low   Close   Volume  \\\n",
       "0  5/1/2018   08:30:00  229.09  229.75  229.07  229.62    10673   \n",
       "1  5/1/2018   08:35:00  229.43  229.97  229.23  229.63    11385   \n",
       "2  5/1/2018   08:40:00  229.30  229.85  229.02  229.70    14037   \n",
       "3  5/1/2018   08:45:00  229.59  229.85  229.47  229.65    10691   \n",
       "4  5/1/2018   08:50:00  229.64  229.89  229.51  229.70    10479   \n",
       "\n",
       "    NumberOfTrades   BidVolume   AskVolume  \n",
       "0               89        1600        9073  \n",
       "1              102        6185        5200  \n",
       "2              119       10927        3110  \n",
       "3               98        5758        4933  \n",
       "4               94        6579        3900  "
      ]
     },
     "execution_count": 140,
     "metadata": {},
     "output_type": "execute_result"
    }
   ],
   "source": [
    "# Checking head of COM7\n",
    "COM05.head()"
   ]
  },
  {
   "cell_type": "code",
   "execution_count": 163,
   "metadata": {},
   "outputs": [],
   "source": [
    "# Convert Date string to DateTime format\n",
    "COM01['Date'] = pd.to_datetime(COM01.Date)\n",
    "COM02['Date'] = pd.to_datetime(COM02.Date)\n",
    "COM03['Date'] = pd.to_datetime(COM03.Date)\n",
    "COM04['Date'] = pd.to_datetime(COM04.Date)\n",
    "COM05['Date'] = pd.to_datetime(COM05.Date)"
   ]
  },
  {
   "cell_type": "code",
   "execution_count": 164,
   "metadata": {},
   "outputs": [],
   "source": [
    "# Creating list to hold original data\n",
    "original_data={'COM01':COM01,'COM02':COM02,'COM03':COM03,'COM04':COM04,\n",
    "               'COM05':COM05}"
   ]
  },
  {
   "cell_type": "code",
   "execution_count": 166,
   "metadata": {},
   "outputs": [],
   "source": [
    "# Parse out training period data\n",
    "# Start and End Date\n",
    "start = '2018-05-01'\n",
    "end = '2018-08-29'\n",
    "training_df=pd.DataFrame()\n",
    "\n",
    "for count, company in enumerate(symbol_list_0):\n",
    "    # Making a copy of our original data for each symbol\n",
    "    copy=original_data[company].copy()\n",
    "    \n",
    "    # Reindexing our copied data by Date column\n",
    "    copy=copy.reindex(index=copy['Date'],columns=copy.columns)\n",
    "    \n",
    "    # Restoring values of close column from our original data\n",
    "    copy[' Close']=original_data[company][' Close'].values\n",
    "    \n",
    "    # Parsing out our training period\n",
    "    copy=copy.loc[start:end][' Close']\n",
    "    \n",
    "    # Adding training data to dataframe\n",
    "    training_df[str(company)]=copy.values"
   ]
  },
  {
   "cell_type": "code",
   "execution_count": 167,
   "metadata": {},
   "outputs": [
    {
     "data": {
      "text/html": [
       "<div>\n",
       "<style scoped>\n",
       "    .dataframe tbody tr th:only-of-type {\n",
       "        vertical-align: middle;\n",
       "    }\n",
       "\n",
       "    .dataframe tbody tr th {\n",
       "        vertical-align: top;\n",
       "    }\n",
       "\n",
       "    .dataframe thead th {\n",
       "        text-align: right;\n",
       "    }\n",
       "</style>\n",
       "<table border=\"1\" class=\"dataframe\">\n",
       "  <thead>\n",
       "    <tr style=\"text-align: right;\">\n",
       "      <th></th>\n",
       "      <th>COM01</th>\n",
       "      <th>COM02</th>\n",
       "      <th>COM03</th>\n",
       "      <th>COM04</th>\n",
       "      <th>COM05</th>\n",
       "    </tr>\n",
       "  </thead>\n",
       "  <tbody>\n",
       "    <tr>\n",
       "      <th>0</th>\n",
       "      <td>183.13</td>\n",
       "      <td>60.36</td>\n",
       "      <td>183.45</td>\n",
       "      <td>54.67</td>\n",
       "      <td>229.62</td>\n",
       "    </tr>\n",
       "    <tr>\n",
       "      <th>1</th>\n",
       "      <td>182.89</td>\n",
       "      <td>60.61</td>\n",
       "      <td>183.68</td>\n",
       "      <td>54.51</td>\n",
       "      <td>229.63</td>\n",
       "    </tr>\n",
       "    <tr>\n",
       "      <th>2</th>\n",
       "      <td>183.22</td>\n",
       "      <td>60.77</td>\n",
       "      <td>183.80</td>\n",
       "      <td>54.25</td>\n",
       "      <td>229.70</td>\n",
       "    </tr>\n",
       "    <tr>\n",
       "      <th>3</th>\n",
       "      <td>183.73</td>\n",
       "      <td>60.81</td>\n",
       "      <td>183.82</td>\n",
       "      <td>54.08</td>\n",
       "      <td>229.65</td>\n",
       "    </tr>\n",
       "    <tr>\n",
       "      <th>4</th>\n",
       "      <td>183.90</td>\n",
       "      <td>60.80</td>\n",
       "      <td>183.93</td>\n",
       "      <td>54.27</td>\n",
       "      <td>229.70</td>\n",
       "    </tr>\n",
       "  </tbody>\n",
       "</table>\n",
       "</div>"
      ],
      "text/plain": [
       "    COM01  COM02   COM03  COM04   COM05\n",
       "0  183.13  60.36  183.45  54.67  229.62\n",
       "1  182.89  60.61  183.68  54.51  229.63\n",
       "2  183.22  60.77  183.80  54.25  229.70\n",
       "3  183.73  60.81  183.82  54.08  229.65\n",
       "4  183.90  60.80  183.93  54.27  229.70"
      ]
     },
     "execution_count": 167,
     "metadata": {},
     "output_type": "execute_result"
    }
   ],
   "source": [
    "# Let’s check our training dataframe\n",
    "training_df.head()"
   ]
  },
  {
   "cell_type": "code",
   "execution_count": 168,
   "metadata": {},
   "outputs": [],
   "source": [
    "#creating method to check possible pair combinations\n",
    "def possible_combinations(n):\n",
    "    #Parameters#\n",
    "    ############\n",
    "    #n- represents the number of items or in our case stocks\n",
    "    \n",
    "    possible_pairs=(n*(n-1))\n",
    "    \n",
    "    return possible_pairs"
   ]
  },
  {
   "cell_type": "code",
   "execution_count": 169,
   "metadata": {},
   "outputs": [
    {
     "data": {
      "text/plain": [
       "20"
      ]
     },
     "execution_count": 169,
     "metadata": {},
     "output_type": "execute_result"
    }
   ],
   "source": [
    "#checking possible pair combinations\n",
    "possible_combinations(5) # we pass in 5 for our 5 stocks"
   ]
  },
  {
   "cell_type": "code",
   "execution_count": 170,
   "metadata": {},
   "outputs": [],
   "source": [
    "from scipy.stats import linregress"
   ]
  },
  {
   "cell_type": "code",
   "execution_count": 171,
   "metadata": {},
   "outputs": [],
   "source": [
    "def get_cointegrated(all_pairs,training_df):\n",
    "    '''\n",
    "    PARAMETERS\n",
    "    #########\n",
    "    \n",
    "    all_pairs - the list of all possible pair combinations from Cluster 0\n",
    "    training_df - our dataframe holding our stock data for stocks in Cluster 0 over the training period \n",
    "    \n",
    "    '''\n",
    "    \n",
    "    #creating a list to hold cointegrated pairs\n",
    "    cointegrated=[]\n",
    "    \n",
    "        \n",
    "    #iterate over each pair in possible pairs list; pair is a list of our 2 stock symbols\n",
    "    for count, pair in enumerate(all_pairs):\n",
    "        try:\n",
    "            \n",
    "            #getting data for each stock in pair from training_df\n",
    "            ols=linregress(training_df[str(pair[1])],training_df[str(pair[0])]) #note scipy's linregress takes in Y then X\n",
    "                        \n",
    "            #storing slope or hedge ratio in variable\n",
    "            slope=ols[0]\n",
    "            \n",
    "            \n",
    "            #creating spread \n",
    "            spread=training_df[str(pair[1])]-(slope*training_df[str(pair[0])])\n",
    "                       \n",
    "            #testing spread for cointegration\n",
    "            cadf=adfuller(spread,1)\n",
    "            \n",
    "            #checking to see if spread is cointegrated, if so then store pair in cointegrated list\n",
    "            if cadf[0] < cadf[4]['1%']:\n",
    "                print('Pair Cointegrated at 99% Confidence Interval')\n",
    "                #appending the X and Y of pair\n",
    "                cointegrated.append([pair[0],pair[1]])\n",
    "            elif cadf[0] < cadf[4]['5%']:\n",
    "                print('Pair Cointegrated at 95% Confidence Interval')\n",
    "                #appending the X and Y of pair\n",
    "                cointegrated.append([pair[0],pair[1]])\n",
    "            elif cadf[0] < cadf[4]['10%']:\n",
    "                print('Pair Cointegrated at 90% Confidence Interval')\n",
    "                cointegrated.append(pair[0],pair[1])\n",
    "            else:\n",
    "                print('Pair Not Cointegrated ')\n",
    "                continue\n",
    "        except:\n",
    "            print('Exception: Symbol not in Dataframe')\n",
    "            continue\n",
    "        \n",
    "    return cointegrated"
   ]
  },
  {
   "cell_type": "code",
   "execution_count": 172,
   "metadata": {},
   "outputs": [
    {
     "name": "stdout",
     "output_type": "stream",
     "text": [
      "Pair Not Cointegrated \n",
      "Pair Not Cointegrated \n",
      "Pair Not Cointegrated \n",
      "Pair Cointegrated at 95% Confidence Interval\n",
      "Pair Not Cointegrated \n",
      "Pair Not Cointegrated \n",
      "Pair Not Cointegrated \n",
      "Pair Not Cointegrated \n",
      "Pair Not Cointegrated \n",
      "Pair Not Cointegrated \n",
      "Pair Not Cointegrated \n",
      "Pair Cointegrated at 95% Confidence Interval\n",
      "Pair Not Cointegrated \n",
      "Pair Not Cointegrated \n",
      "Pair Not Cointegrated \n",
      "Pair Not Cointegrated \n",
      "Pair Not Cointegrated \n",
      "Pair Not Cointegrated \n",
      "Pair Cointegrated at 95% Confidence Interval\n",
      "Pair Not Cointegrated \n"
     ]
    }
   ],
   "source": [
    "#getting our cointegrated pairs\n",
    "cointegrated_from_cluster_0=get_cointegrated(all_pairs,training_df)"
   ]
  },
  {
   "cell_type": "code",
   "execution_count": 173,
   "metadata": {},
   "outputs": [
    {
     "data": {
      "text/plain": [
       "[['COM01', 'COM05'], ['COM03', 'COM05'], ['COM05', 'COM03']]"
      ]
     },
     "execution_count": 173,
     "metadata": {},
     "output_type": "execute_result"
    }
   ],
   "source": [
    "cointegrated_from_cluster_0\n",
    "#  Found that 3 of our possible 20 pairs are cointegrated each at the 90% confidence interval."
   ]
  },
  {
   "cell_type": "code",
   "execution_count": 174,
   "metadata": {},
   "outputs": [],
   "source": [
    "# Importing the Counter method\n",
    "from collections import Counter"
   ]
  },
  {
   "cell_type": "code",
   "execution_count": 175,
   "metadata": {},
   "outputs": [
    {
     "data": {
      "text/plain": [
       "Counter({0: 47,\n",
       "         1: 30,\n",
       "         2: 3,\n",
       "         3: 19,\n",
       "         5: 166,\n",
       "         6: 3,\n",
       "         7: 5,\n",
       "         8: 99,\n",
       "         9: 4,\n",
       "         11: 88,\n",
       "         12: 36,\n",
       "         14: 2})"
      ]
     },
     "execution_count": 175,
     "metadata": {},
     "output_type": "execute_result"
    }
   ],
   "source": [
    "# Calling Counter method on our clusters\n",
    "Counter(clusters_df['Cluster'])"
   ]
  },
  {
   "cell_type": "code",
   "execution_count": 176,
   "metadata": {},
   "outputs": [],
   "source": [
    "#adding Symbol Column back to cluster_df\n",
    "clusters_df['Symbol']=clusters_df.index"
   ]
  },
  {
   "cell_type": "code",
   "execution_count": 177,
   "metadata": {},
   "outputs": [
    {
     "data": {
      "text/html": [
       "<div>\n",
       "<style scoped>\n",
       "    .dataframe tbody tr th:only-of-type {\n",
       "        vertical-align: middle;\n",
       "    }\n",
       "\n",
       "    .dataframe tbody tr th {\n",
       "        vertical-align: top;\n",
       "    }\n",
       "\n",
       "    .dataframe thead th {\n",
       "        text-align: right;\n",
       "    }\n",
       "</style>\n",
       "<table border=\"1\" class=\"dataframe\">\n",
       "  <thead>\n",
       "    <tr style=\"text-align: right;\">\n",
       "      <th></th>\n",
       "      <th>P/E</th>\n",
       "      <th>EPS</th>\n",
       "      <th>MarketCap</th>\n",
       "      <th>Cluster</th>\n",
       "      <th>Symbol</th>\n",
       "    </tr>\n",
       "    <tr>\n",
       "      <th>Symbol</th>\n",
       "      <th></th>\n",
       "      <th></th>\n",
       "      <th></th>\n",
       "      <th></th>\n",
       "      <th></th>\n",
       "    </tr>\n",
       "  </thead>\n",
       "  <tbody>\n",
       "    <tr>\n",
       "      <th>ABC07</th>\n",
       "      <td>51.72</td>\n",
       "      <td>2.32</td>\n",
       "      <td>59.28</td>\n",
       "      <td>0</td>\n",
       "      <td>ABC07</td>\n",
       "    </tr>\n",
       "    <tr>\n",
       "      <th>ABC10</th>\n",
       "      <td>20.37</td>\n",
       "      <td>6.41</td>\n",
       "      <td>45.93</td>\n",
       "      <td>0</td>\n",
       "      <td>ABC10</td>\n",
       "    </tr>\n",
       "    <tr>\n",
       "      <th>ABC31</th>\n",
       "      <td>14.08</td>\n",
       "      <td>5.65</td>\n",
       "      <td>71.72</td>\n",
       "      <td>0</td>\n",
       "      <td>ABC31</td>\n",
       "    </tr>\n",
       "    <tr>\n",
       "      <th>ABC32</th>\n",
       "      <td>NaN</td>\n",
       "      <td>-0.78</td>\n",
       "      <td>62.15</td>\n",
       "      <td>0</td>\n",
       "      <td>ABC32</td>\n",
       "    </tr>\n",
       "    <tr>\n",
       "      <th>ABC42</th>\n",
       "      <td>18.02</td>\n",
       "      <td>9.21</td>\n",
       "      <td>43.89</td>\n",
       "      <td>0</td>\n",
       "      <td>ABC42</td>\n",
       "    </tr>\n",
       "  </tbody>\n",
       "</table>\n",
       "</div>"
      ],
      "text/plain": [
       "          P/E   EPS  MarketCap  Cluster Symbol\n",
       "Symbol                                        \n",
       "ABC07   51.72  2.32      59.28        0  ABC07\n",
       "ABC10   20.37  6.41      45.93        0  ABC10\n",
       "ABC31   14.08  5.65      71.72        0  ABC31\n",
       "ABC32     NaN -0.78      62.15        0  ABC32\n",
       "ABC42   18.02  9.21      43.89        0  ABC42"
      ]
     },
     "execution_count": 177,
     "metadata": {},
     "output_type": "execute_result"
    }
   ],
   "source": [
    "#checking update to cluster_df\n",
    "clusters_df.head()"
   ]
  },
  {
   "cell_type": "markdown",
   "metadata": {},
   "source": [
    "### Portfolio Construction: Equal Weighted\n",
    "We'll assume that we have a portfolio value of 100k USD with 10 percent in cash.\n",
    "We will allocate $30k USD to each of our pairs. To begin we will create a class that will allow us to create our StatArb strategies."
   ]
  },
  {
   "cell_type": "code",
   "execution_count": 178,
   "metadata": {},
   "outputs": [],
   "source": [
    "#creating copies of our data - COM01, COM03 and COM05\n",
    "COM01_copy=COM01.copy()\n",
    "COM03_copy=COM03.copy()\n",
    "COM05_copy=COM05.copy()"
   ]
  },
  {
   "cell_type": "code",
   "execution_count": 179,
   "metadata": {},
   "outputs": [],
   "source": [
    "#reindexing our data\n",
    "COM01_copy=COM01_copy.reindex(index=COM01_copy['Date'],columns=COM01_copy.columns)\n",
    "COM03_copy=COM03_copy.reindex(index=COM03_copy['Date'],columns=COM03_copy.columns)\n",
    "COM05_copy=COM05_copy.reindex(index=COM05_copy['Date'],columns=COM05_copy.columns)"
   ]
  },
  {
   "cell_type": "code",
   "execution_count": 180,
   "metadata": {},
   "outputs": [],
   "source": [
    "# Dropping date columns\n",
    "COM01_copy.drop('Date',axis=1,inplace=True)\n",
    "COM03_copy.drop('Date',axis=1,inplace=True)\n",
    "COM05_copy.drop('Date',axis=1,inplace=True)"
   ]
  },
  {
   "cell_type": "code",
   "execution_count": 181,
   "metadata": {},
   "outputs": [],
   "source": [
    "#restoring our column values back to our data\n",
    "COM01_copy[[' Time',' Open',' High',' Low',' Close',' Volume',' NumberOfTrades',' BidVolume',' AskVolume']]=COM01[[' Time',' Open',' High',' Low',' Close',' Volume',' NumberOfTrades',' BidVolume',' AskVolume']].values\n",
    "COM03_copy[[' Time',' Open',' High',' Low',' Close',' Volume',' NumberOfTrades',' BidVolume',' AskVolume']]=COM03[[' Time',' Open',' High',' Low',' Close',' Volume',' NumberOfTrades',' BidVolume',' AskVolume']].values\n",
    "COM05_copy[[' Time',' Open',' High',' Low',' Close',' Volume',' NumberOfTrades',' BidVolume',' AskVolume']]=COM05[[' Time',' Open',' High',' Low',' Close',' Volume',' NumberOfTrades',' BidVolume',' AskVolume']].values"
   ]
  },
  {
   "cell_type": "code",
   "execution_count": 182,
   "metadata": {},
   "outputs": [
    {
     "data": {
      "text/html": [
       "<div>\n",
       "<style scoped>\n",
       "    .dataframe tbody tr th:only-of-type {\n",
       "        vertical-align: middle;\n",
       "    }\n",
       "\n",
       "    .dataframe tbody tr th {\n",
       "        vertical-align: top;\n",
       "    }\n",
       "\n",
       "    .dataframe thead th {\n",
       "        text-align: right;\n",
       "    }\n",
       "</style>\n",
       "<table border=\"1\" class=\"dataframe\">\n",
       "  <thead>\n",
       "    <tr style=\"text-align: right;\">\n",
       "      <th></th>\n",
       "      <th>Time</th>\n",
       "      <th>Open</th>\n",
       "      <th>High</th>\n",
       "      <th>Low</th>\n",
       "      <th>Close</th>\n",
       "      <th>Volume</th>\n",
       "      <th>NumberOfTrades</th>\n",
       "      <th>BidVolume</th>\n",
       "      <th>AskVolume</th>\n",
       "    </tr>\n",
       "    <tr>\n",
       "      <th>Date</th>\n",
       "      <th></th>\n",
       "      <th></th>\n",
       "      <th></th>\n",
       "      <th></th>\n",
       "      <th></th>\n",
       "      <th></th>\n",
       "      <th></th>\n",
       "      <th></th>\n",
       "      <th></th>\n",
       "    </tr>\n",
       "  </thead>\n",
       "  <tbody>\n",
       "    <tr>\n",
       "      <th>2018-05-01</th>\n",
       "      <td>08:30:00</td>\n",
       "      <td>181.93</td>\n",
       "      <td>183.74</td>\n",
       "      <td>181.84</td>\n",
       "      <td>183.13</td>\n",
       "      <td>83862</td>\n",
       "      <td>396</td>\n",
       "      <td>22941</td>\n",
       "      <td>60921</td>\n",
       "    </tr>\n",
       "    <tr>\n",
       "      <th>2018-05-01</th>\n",
       "      <td>08:35:00</td>\n",
       "      <td>183.05</td>\n",
       "      <td>183.48</td>\n",
       "      <td>182.66</td>\n",
       "      <td>182.89</td>\n",
       "      <td>31593</td>\n",
       "      <td>238</td>\n",
       "      <td>17840</td>\n",
       "      <td>13753</td>\n",
       "    </tr>\n",
       "    <tr>\n",
       "      <th>2018-05-01</th>\n",
       "      <td>08:40:00</td>\n",
       "      <td>182.84</td>\n",
       "      <td>183.35</td>\n",
       "      <td>182.70</td>\n",
       "      <td>183.22</td>\n",
       "      <td>49654</td>\n",
       "      <td>345</td>\n",
       "      <td>26962</td>\n",
       "      <td>22692</td>\n",
       "    </tr>\n",
       "    <tr>\n",
       "      <th>2018-05-01</th>\n",
       "      <td>08:45:00</td>\n",
       "      <td>183.25</td>\n",
       "      <td>183.73</td>\n",
       "      <td>183.06</td>\n",
       "      <td>183.73</td>\n",
       "      <td>51108</td>\n",
       "      <td>314</td>\n",
       "      <td>21566</td>\n",
       "      <td>29542</td>\n",
       "    </tr>\n",
       "    <tr>\n",
       "      <th>2018-05-01</th>\n",
       "      <td>08:50:00</td>\n",
       "      <td>183.66</td>\n",
       "      <td>184.00</td>\n",
       "      <td>183.56</td>\n",
       "      <td>183.90</td>\n",
       "      <td>27476</td>\n",
       "      <td>196</td>\n",
       "      <td>15287</td>\n",
       "      <td>12189</td>\n",
       "    </tr>\n",
       "  </tbody>\n",
       "</table>\n",
       "</div>"
      ],
      "text/plain": [
       "                 Time    Open    High     Low   Close   Volume  \\\n",
       "Date                                                             \n",
       "2018-05-01   08:30:00  181.93  183.74  181.84  183.13    83862   \n",
       "2018-05-01   08:35:00  183.05  183.48  182.66  182.89    31593   \n",
       "2018-05-01   08:40:00  182.84  183.35  182.70  183.22    49654   \n",
       "2018-05-01   08:45:00  183.25  183.73  183.06  183.73    51108   \n",
       "2018-05-01   08:50:00  183.66  184.00  183.56  183.90    27476   \n",
       "\n",
       "             NumberOfTrades   BidVolume   AskVolume  \n",
       "Date                                                 \n",
       "2018-05-01              396       22941       60921  \n",
       "2018-05-01              238       17840       13753  \n",
       "2018-05-01              345       26962       22692  \n",
       "2018-05-01              314       21566       29542  \n",
       "2018-05-01              196       15287       12189  "
      ]
     },
     "execution_count": 182,
     "metadata": {},
     "output_type": "execute_result"
    }
   ],
   "source": [
    "# Rechecking our dataframe\n",
    "COM01_copy.head()"
   ]
  },
  {
   "cell_type": "code",
   "execution_count": 184,
   "metadata": {},
   "outputs": [],
   "source": [
    "# Creating variables to hold testing period data\n",
    "COM01_test=COM01_copy.loc['2018-09-01':]\n",
    "COM03_test=COM03_copy.loc['2018-09-01':]\n",
    "COM05_test=COM05_copy.loc['2018-09-01':]"
   ]
  },
  {
   "cell_type": "code",
   "execution_count": 186,
   "metadata": {},
   "outputs": [],
   "source": [
    "# Closing price series for data\n",
    "COM01_test_price_series=np.array(COM01_test[' Close'])\n",
    "COM03_test_price_series=np.array(COM03_test[' Close'])\n",
    "COM05_test_price_series=np.array(COM05_test[' Close'])"
   ]
  },
  {
   "cell_type": "code",
   "execution_count": 190,
   "metadata": {},
   "outputs": [
    {
     "data": {
      "text/plain": [
       "array([229.87, 229.58, 230.12, 230.22, 230.56])"
      ]
     },
     "execution_count": 190,
     "metadata": {},
     "output_type": "execute_result"
    }
   ],
   "source": [
    "# Checking head of COM01 price series\n",
    "COM01_test_price_series[0:5]"
   ]
  },
  {
   "cell_type": "code",
   "execution_count": null,
   "metadata": {},
   "outputs": [],
   "source": [
    "# Construct our StatArb class and create our individual strategies. \n",
    "# We will then combine these individual strategies into an equally weighted portfolio."
   ]
  },
  {
   "cell_type": "code",
   "execution_count": 191,
   "metadata": {},
   "outputs": [],
   "source": [
    "class statarb(object):\n",
    "    \n",
    "    def __init__(self,df1, df2,ma,floor, ceiling,beta_lookback,start,end,exit_zscore=0):\n",
    "        #setting the attributes \n",
    "        self.df1=df1 #array of prices for X\n",
    "        self.df2=df2 #array of prices for Y\n",
    "        self.ma=ma# the lookback period \n",
    "        self.floor=floor #the buy threshold for the z-score\n",
    "        self.ceiling=ceiling #the sell threshold for the z-score\n",
    "        self.Close='Close Long'  #used as close signal for longs\n",
    "        self.Cover='Cover Short' #used as close signal for shorts\n",
    "        self.exit_zscore=exit_zscore  #the z-score\n",
    "        self.beta_lookback=beta_lookback #the lookback for hedge ratio\n",
    "        self.start=start #the beginning of test period as a string\n",
    "        self.end=end    # the end of test period as a string\n",
    "        \n",
    "    #create price spread\n",
    "    def create_spread(self):\n",
    "        \n",
    "        #creating new dataframe\n",
    "        self.df=pd.DataFrame(index=range(0,len(self.df1)))\n",
    "        \n",
    "        try:\n",
    "            self.df['X']=self.df1\n",
    "            self.df['Y']=self.df2\n",
    "        except:\n",
    "            print('Length of self.df:')\n",
    "            print(len(self.df))\n",
    "            print('')\n",
    "            print('Length of self.df1:')\n",
    "            print(len(self.df1))\n",
    "            print('')\n",
    "            print('Length of self.df2:')\n",
    "            print(len(self.df2))\n",
    "            \n",
    "        \n",
    "        #calculating the beta of the pairs \n",
    "        ols=linregress(self.df['Y'],self.df['X'])\n",
    "        self.df['Beta']=ols[0]\n",
    "        \n",
    "        #calculating the spread\n",
    "        self.df['Spread']=self.df['Y']-(self.df['Beta'].rolling(window=self.beta_lookback).mean()*self.df['X'])\n",
    "            \n",
    "            \n",
    "            \n",
    "            \n",
    "        return self.df.head()\n",
    "    \n",
    "            \n",
    "    def generate_signals(self):\n",
    "        \n",
    "\n",
    "            #creating the z-score\n",
    "            self.df['Z-Score']=(self.df['Spread']-self.df['Spread'].rolling(window=self.ma).mean())/self.df['Spread'].rolling(window=self.ma).std()\n",
    "\n",
    "            #prior z-score\n",
    "            self.df['Prior Z-Score']=self.df['Z-Score'].shift(1)\n",
    "\n",
    "            #Creating Buy and Sell Signals; when to be long, short, exit\n",
    "            self.df['Longs']=(self.df['Z-Score']<=self.floor)*1.0 #buy the spread\n",
    "            self.df['Shorts']=(self.df['Z-Score']>=self.ceiling)*1.0 #short the spread\n",
    "            self.df['Exit']=(np.abs(self.df['Z-Score'])<=self.exit_zscore)*1.0\n",
    "\n",
    "            #tracking positions via for loop implementation\n",
    "            self.df['Long_Market']=0.0\n",
    "            self.df['Short_Market']=0.0\n",
    "\n",
    "            #Setting Variables to track whether or not to be long while iterating over df\n",
    "            self.long_market=0\n",
    "            self.short_market=0\n",
    "\n",
    "            #Determining when to trade\n",
    "            for i,value in enumerate(self.df.iterrows()):\n",
    "                #Calculate longs\n",
    "                if value[1]['Longs']==1.0:\n",
    "                    self.long_market=1\n",
    "\n",
    "                if value[1]['Shorts']==1.0:\n",
    "                    self.short_market=1\n",
    "\n",
    "                if value[1]['Exit']==1.0:\n",
    "\n",
    "                    self.long_market=0\n",
    "                    self.short_market=0\n",
    "\n",
    "                self.df.iloc[i]['Long_Market']=self.long_market\n",
    "                self.df.iloc[i]['Short_Market']=self.short_market\n",
    "\n",
    "\n",
    "        \n",
    "            return \n",
    "        \n",
    "    def create_returns(self, allocation,pair_number):\n",
    "            '''\n",
    "            PARAMETERS\n",
    "            ##########\n",
    "            allocation - the amount of capital alotted for pair\n",
    "            pair_number - string to annotate the plots\n",
    "\n",
    "            '''\n",
    "            self.allocation=allocation \n",
    "            self.pair=pair_number\n",
    "\n",
    "            self.portfolio=pd.DataFrame(index=self.df.index)\n",
    "            self.portfolio['Positions']=self.df['Long_Market']-self.df['Short_Market']\n",
    "            self.portfolio['X']=-1.0*self.df['X']*self.portfolio['Positions']\n",
    "            self.portfolio['Y']=self.df['Y']*self.portfolio['Positions']\n",
    "            self.portfolio['Total']=self.portfolio['X']+self.portfolio['Y']\n",
    "\n",
    "\n",
    "            #creating a percentage return stream\n",
    "            self.portfolio['Returns']=self.portfolio['Total'].pct_change()\n",
    "            self.portfolio['Returns'].fillna(0.0,inplace=True)\n",
    "            self.portfolio['Returns'].replace([np.inf,-np.inf],0.0,inplace=True)\n",
    "            self.portfolio['Returns'].replace(-1.0,0.0,inplace=True)\n",
    "\n",
    "\n",
    "            #calculating metrics\n",
    "            self.mu=(self.portfolio['Returns'].mean())\n",
    "            self.sigma=(self.portfolio['Returns'].std())\n",
    "            self.portfolio['Win']=np.where(self.portfolio['Returns']>0,1,0)\n",
    "            self.portfolio['Loss']=np.where(self.portfolio['Returns']<0,1,0)\n",
    "            self.wins=self.portfolio['Win'].sum()\n",
    "            self.losses=self.portfolio['Loss'].sum()\n",
    "            self.total_trades=self.wins+self.losses\n",
    "            #calculating sharpe ratio with interest rate of \n",
    "            #interest_rate_assumption=0.75\n",
    "            #self.sharp=(self.mu-interest_rate_assumption)/self.sigma\n",
    "\n",
    "            #win loss ratio; \n",
    "            self.win_loss_ratio=(self.wins/self.losses)\n",
    "\n",
    "            #probability of win\n",
    "            self.prob_of_win=(self.wins/self.total_trades)\n",
    "            #probability of loss\n",
    "            self.prob_of_loss=(self.losses/self.total_trades)\n",
    "\n",
    "            #average return of wins\n",
    "            self.avg_win_return=(self.portfolio['Returns']>0).mean()\n",
    "            #average returns of losses\n",
    "            self.avg_loss_return=(self.portfolio['Returns']<0).mean()\n",
    "            #calculating payout ratio\n",
    "            self.payout_ratio=(self.avg_win_return/self.avg_loss_return)\n",
    "\n",
    "            #calculate equity curve\n",
    "            self.portfolio['Returns']=(self.portfolio['Returns']+1.0).cumprod()\n",
    "            self.portfolio['Trade Returns']=(self.portfolio['Total'].pct_change()) #non cumulative Returns\n",
    "            self.portfolio['Portfolio Value']=(self.allocation*self.portfolio['Returns'])\n",
    "            self.portfolio['Portfolio Returns']=self.portfolio['Portfolio Value'].pct_change()\n",
    "            self.portfolio['Initial Value']=self.allocation\n",
    "\n",
    "            with plt.style.context(['ggplot','seaborn-paper']):\n",
    "                #Plotting Portfolio Value   \n",
    "                plt.plot(self.portfolio['Portfolio Value'])\n",
    "                plt.plot(self.portfolio['Initial Value'])\n",
    "                plt.title('%s Strategy Returns '%(self.pair))\n",
    "                plt.legend(loc=0)\n",
    "                plt.show()\n",
    "\n",
    "\n",
    "            return"
   ]
  },
  {
   "cell_type": "code",
   "execution_count": 211,
   "metadata": {},
   "outputs": [],
   "source": [
    "# COM01 & COM05 statarb initialization\n",
    "# Passing in X, Y, MA, Floor, Ceiling, Beta Lookback, Start, End\n",
    "COM01_COM05 = statarb(COM01_test_price_series, COM05_test_price_series,17,-2,2,17,COM01_test.iloc[0],COM01_test.iloc[-1])"
   ]
  },
  {
   "cell_type": "code",
   "execution_count": 212,
   "metadata": {},
   "outputs": [
    {
     "data": {
      "text/html": [
       "<div>\n",
       "<style scoped>\n",
       "    .dataframe tbody tr th:only-of-type {\n",
       "        vertical-align: middle;\n",
       "    }\n",
       "\n",
       "    .dataframe tbody tr th {\n",
       "        vertical-align: top;\n",
       "    }\n",
       "\n",
       "    .dataframe thead th {\n",
       "        text-align: right;\n",
       "    }\n",
       "</style>\n",
       "<table border=\"1\" class=\"dataframe\">\n",
       "  <thead>\n",
       "    <tr style=\"text-align: right;\">\n",
       "      <th></th>\n",
       "      <th>X</th>\n",
       "      <th>Y</th>\n",
       "      <th>Beta</th>\n",
       "      <th>Spread</th>\n",
       "    </tr>\n",
       "  </thead>\n",
       "  <tbody>\n",
       "    <tr>\n",
       "      <th>0</th>\n",
       "      <td>229.87</td>\n",
       "      <td>233.31</td>\n",
       "      <td>-0.409962</td>\n",
       "      <td>NaN</td>\n",
       "    </tr>\n",
       "    <tr>\n",
       "      <th>1</th>\n",
       "      <td>229.58</td>\n",
       "      <td>232.37</td>\n",
       "      <td>-0.409962</td>\n",
       "      <td>NaN</td>\n",
       "    </tr>\n",
       "    <tr>\n",
       "      <th>2</th>\n",
       "      <td>230.12</td>\n",
       "      <td>232.22</td>\n",
       "      <td>-0.409962</td>\n",
       "      <td>NaN</td>\n",
       "    </tr>\n",
       "    <tr>\n",
       "      <th>3</th>\n",
       "      <td>230.22</td>\n",
       "      <td>232.47</td>\n",
       "      <td>-0.409962</td>\n",
       "      <td>NaN</td>\n",
       "    </tr>\n",
       "    <tr>\n",
       "      <th>4</th>\n",
       "      <td>230.56</td>\n",
       "      <td>231.93</td>\n",
       "      <td>-0.409962</td>\n",
       "      <td>NaN</td>\n",
       "    </tr>\n",
       "  </tbody>\n",
       "</table>\n",
       "</div>"
      ],
      "text/plain": [
       "        X       Y      Beta  Spread\n",
       "0  229.87  233.31 -0.409962     NaN\n",
       "1  229.58  232.37 -0.409962     NaN\n",
       "2  230.12  232.22 -0.409962     NaN\n",
       "3  230.22  232.47 -0.409962     NaN\n",
       "4  230.56  231.93 -0.409962     NaN"
      ]
     },
     "execution_count": 212,
     "metadata": {},
     "output_type": "execute_result"
    }
   ],
   "source": [
    "#creating spread\n",
    "COM01_COM05.create_spread()"
   ]
  },
  {
   "cell_type": "code",
   "execution_count": 213,
   "metadata": {},
   "outputs": [],
   "source": [
    "# Generating signals\n",
    "COM01_COM05.generate_signals()"
   ]
  },
  {
   "cell_type": "code",
   "execution_count": 214,
   "metadata": {},
   "outputs": [
    {
     "data": {
      "image/png": "[encoded data removed]",
      "text/plain": [
       "<Figure size 460.8x316.8 with 1 Axes>"
      ]
     },
     "metadata": {},
     "output_type": "display_data"
    }
   ],
   "source": [
    "# Creating returns and passing in our allocation amount\n",
    "COM01_COM05.create_returns(30000,'COM01_COM05')"
   ]
  },
  {
   "cell_type": "code",
   "execution_count": 197,
   "metadata": {},
   "outputs": [
    {
     "data": {
      "image/png": "[encoded data removed]",
      "text/plain": [
       "<Figure size 460.8x316.8 with 1 Axes>"
      ]
     },
     "metadata": {},
     "output_type": "display_data"
    }
   ],
   "source": [
    "# Repeating process for COM03 and COM05\n",
    "COM03_COM05 = statarb(COM03_test_price_series,COM05_test_price_series,6,-2,2,6,COM03_test.iloc[0],COM03_test.iloc[-1])\n",
    "COM03_COM05.create_spread()\n",
    "COM03_COM05.generate_signals()\n",
    "COM03_COM05.create_returns(30000,'COM03_COM05')"
   ]
  },
  {
   "cell_type": "code",
   "execution_count": 203,
   "metadata": {},
   "outputs": [
    {
     "data": {
      "image/png": "[encoded data removed]",
      "text/plain": [
       "<Figure size 460.8x316.8 with 1 Axes>"
      ]
     },
     "metadata": {},
     "output_type": "display_data"
    }
   ],
   "source": [
    "# Repeating process for COM05 and COM03\n",
    "COM05_COM03 = statarb(COM05_test_price_series,COM03_test_price_series,6,-2,2,6,COM05_test.iloc[0],COM05_test.iloc[-1])\n",
    "COM05_COM03.create_spread()\n",
    "COM05_COM03.generate_signals()\n",
    "COM05_COM03.create_returns(30000,'COM05_COM01')"
   ]
  },
  {
   "cell_type": "code",
   "execution_count": 205,
   "metadata": {},
   "outputs": [],
   "source": [
    "# Creating dataframe for equally weighted portfolio\n",
    "equally_weighted=pd.DataFrame()\n",
    "equally_weighted['COM01_COM05']=COM01_COM05.portfolio['Portfolio Value']\n",
    "equally_weighted['COM03_COM05']=COM03_COM05.portfolio['Portfolio Value']\n",
    "equally_weighted['COM05_COM03']=COM05_COM03.portfolio['Portfolio Value']\n",
    "equally_weighted['Cash']=10000\n",
    "equally_weighted['Total Portfolio Value']=equally_weighted['COM01_COM05']+equally_weighted['COM03_COM05']+equally_weighted['COM05_COM03']+equally_weighted['Cash']"
   ]
  },
  {
   "cell_type": "code",
   "execution_count": 218,
   "metadata": {},
   "outputs": [],
   "source": [
    "# Adding returns column\n",
    "equally_weighted['Returns']=np.log(equally_weighted['Total Portfolio Value']/equally_weighted['Total Portfolio Value'].shift(1))"
   ]
  },
  {
   "cell_type": "code",
   "execution_count": 225,
   "metadata": {},
   "outputs": [
    {
     "data": {
      "text/html": [
       "<div>\n",
       "<style scoped>\n",
       "    .dataframe tbody tr th:only-of-type {\n",
       "        vertical-align: middle;\n",
       "    }\n",
       "\n",
       "    .dataframe tbody tr th {\n",
       "        vertical-align: top;\n",
       "    }\n",
       "\n",
       "    .dataframe thead th {\n",
       "        text-align: right;\n",
       "    }\n",
       "</style>\n",
       "<table border=\"1\" class=\"dataframe\">\n",
       "  <thead>\n",
       "    <tr style=\"text-align: right;\">\n",
       "      <th></th>\n",
       "      <th>COM01_COM05</th>\n",
       "      <th>COM03_COM05</th>\n",
       "      <th>COM05_COM03</th>\n",
       "      <th>Cash</th>\n",
       "      <th>Total Portfolio Value</th>\n",
       "      <th>Returns</th>\n",
       "    </tr>\n",
       "  </thead>\n",
       "  <tbody>\n",
       "    <tr>\n",
       "      <th>0</th>\n",
       "      <td>30000.0</td>\n",
       "      <td>30000.0</td>\n",
       "      <td>30000.0</td>\n",
       "      <td>10000</td>\n",
       "      <td>100000.0</td>\n",
       "      <td>NaN</td>\n",
       "    </tr>\n",
       "    <tr>\n",
       "      <th>1</th>\n",
       "      <td>30000.0</td>\n",
       "      <td>30000.0</td>\n",
       "      <td>30000.0</td>\n",
       "      <td>10000</td>\n",
       "      <td>100000.0</td>\n",
       "      <td>0.0</td>\n",
       "    </tr>\n",
       "    <tr>\n",
       "      <th>2</th>\n",
       "      <td>30000.0</td>\n",
       "      <td>30000.0</td>\n",
       "      <td>30000.0</td>\n",
       "      <td>10000</td>\n",
       "      <td>100000.0</td>\n",
       "      <td>0.0</td>\n",
       "    </tr>\n",
       "    <tr>\n",
       "      <th>3</th>\n",
       "      <td>30000.0</td>\n",
       "      <td>30000.0</td>\n",
       "      <td>30000.0</td>\n",
       "      <td>10000</td>\n",
       "      <td>100000.0</td>\n",
       "      <td>0.0</td>\n",
       "    </tr>\n",
       "    <tr>\n",
       "      <th>4</th>\n",
       "      <td>30000.0</td>\n",
       "      <td>30000.0</td>\n",
       "      <td>30000.0</td>\n",
       "      <td>10000</td>\n",
       "      <td>100000.0</td>\n",
       "      <td>0.0</td>\n",
       "    </tr>\n",
       "  </tbody>\n",
       "</table>\n",
       "</div>"
      ],
      "text/plain": [
       "   COM01_COM05  COM03_COM05  COM05_COM03   Cash  Total Portfolio Value  \\\n",
       "0      30000.0      30000.0      30000.0  10000               100000.0   \n",
       "1      30000.0      30000.0      30000.0  10000               100000.0   \n",
       "2      30000.0      30000.0      30000.0  10000               100000.0   \n",
       "3      30000.0      30000.0      30000.0  10000               100000.0   \n",
       "4      30000.0      30000.0      30000.0  10000               100000.0   \n",
       "\n",
       "   Returns  \n",
       "0      NaN  \n",
       "1      0.0  \n",
       "2      0.0  \n",
       "3      0.0  \n",
       "4      0.0  "
      ]
     },
     "execution_count": 225,
     "metadata": {},
     "output_type": "execute_result"
    }
   ],
   "source": [
    "# Rechecking our dataframe\n",
    "equally_weighted.head()"
   ]
  },
  {
   "cell_type": "code",
   "execution_count": 220,
   "metadata": {},
   "outputs": [],
   "source": [
    "# Initializing Equally_Weighted portfolio metrics\n",
    "equally_weighted_mu=equally_weighted['Returns'].mean()\n",
    "equally_weighted_sigma=equally_weighted['Returns'].std()\n",
    "\n",
    "# Initializing interest rate assumption of 1.5%\n",
    "rate=0.015\n",
    "\n",
    "# Computing Sharpe\n",
    "equally_weighted_Sharpe=round((equally_weighted_mu-rate)/equally_weighted_sigma,2)"
   ]
  },
  {
   "cell_type": "code",
   "execution_count": 221,
   "metadata": {},
   "outputs": [
    {
     "name": "stdout",
     "output_type": "stream",
     "text": [
      "Equally Weighted Portfolio Sharpe: -4.55\n"
     ]
    }
   ],
   "source": [
    "# Getting Equally Weighted Portfolio Sharpe\n",
    "print('Equally Weighted Portfolio Sharpe:',equally_weighted_Sharpe)"
   ]
  },
  {
   "cell_type": "code",
   "execution_count": 222,
   "metadata": {},
   "outputs": [
    {
     "data": {
      "image/png": "[encoded data removed]",
      "text/plain": [
       "<Figure size 720x432 with 1 Axes>"
      ]
     },
     "metadata": {},
     "output_type": "display_data"
    }
   ],
   "source": [
    "# Plotting Equally Weighted Equity Curve\n",
    "plt.figure(figsize=(10,6))\n",
    "plt.plot(equally_weighted['Total Portfolio Value'])\n",
    "plt.title('Equally Weighted Portfolio Equity Curve')\n",
    "plt.show()"
   ]
  },
  {
   "cell_type": "markdown",
   "metadata": {},
   "source": [
    "### Portfolio Construction based on Bottom Up Optimization:\n",
    "* It applies machine learning to the composition of the equally weighted portfolio. This means that we will use equal weights and use bottom-up optimization. The optimization can also be done using Efficient Frontier methodology. \n",
    "* The idea is to have our Gaussian Mixture Model identify specific regimes or distributions. We can then use our GMM’s predictions as labels for our Random Forests. \n",
    "* Our signal generator will then trade based only when our strategy is within a regime in which it historically has not underperformed."
   ]
  },
  {
   "cell_type": "markdown",
   "metadata": {},
   "source": [
    "### Step 1: Feature Engineering\n",
    "* We will track the volatility of each of our underlying components.\n",
    "* We will dvide our training dataset into train and test datasets (80-20)"
   ]
  },
  {
   "cell_type": "code",
   "execution_count": 226,
   "metadata": {},
   "outputs": [
    {
     "data": {
      "text/plain": [
       "6552"
      ]
     },
     "execution_count": 226,
     "metadata": {},
     "output_type": "execute_result"
    }
   ],
   "source": [
    "# Checking length of training_df\n",
    "len(training_df)"
   ]
  },
  {
   "cell_type": "code",
   "execution_count": 227,
   "metadata": {},
   "outputs": [
    {
     "data": {
      "text/plain": [
       "5242"
      ]
     },
     "execution_count": 227,
     "metadata": {},
     "output_type": "execute_result"
    }
   ],
   "source": [
    "# Computing 80% of training_df length\n",
    "round(len(training_df)*.80)"
   ]
  },
  {
   "cell_type": "code",
   "execution_count": 228,
   "metadata": {},
   "outputs": [
    {
     "data": {
      "text/plain": [
       "-1310"
      ]
     },
     "execution_count": 228,
     "metadata": {},
     "output_type": "execute_result"
    }
   ],
   "source": [
    "# Computing 20% of training_df length\n",
    "round(len(training_df)*-.20)"
   ]
  },
  {
   "cell_type": "code",
   "execution_count": 229,
   "metadata": {},
   "outputs": [],
   "source": [
    "# Create our Company 01 and 05 implementation\n",
    "# Passing in X, Y, MA, Floor, Ceiling, Beta Lookback, Start, End\n",
    "COM01_COM05_historical=statarb(training_df['COM01'],training_df['COM05'],17,-2,2,17,COM01_test.iloc[0],\n",
    "                                 COM01_test.iloc[-1])"
   ]
  },
  {
   "cell_type": "code",
   "execution_count": 230,
   "metadata": {},
   "outputs": [
    {
     "data": {
      "text/html": [
       "<div>\n",
       "<style scoped>\n",
       "    .dataframe tbody tr th:only-of-type {\n",
       "        vertical-align: middle;\n",
       "    }\n",
       "\n",
       "    .dataframe tbody tr th {\n",
       "        vertical-align: top;\n",
       "    }\n",
       "\n",
       "    .dataframe thead th {\n",
       "        text-align: right;\n",
       "    }\n",
       "</style>\n",
       "<table border=\"1\" class=\"dataframe\">\n",
       "  <thead>\n",
       "    <tr style=\"text-align: right;\">\n",
       "      <th></th>\n",
       "      <th>X</th>\n",
       "      <th>Y</th>\n",
       "      <th>Beta</th>\n",
       "      <th>Spread</th>\n",
       "    </tr>\n",
       "  </thead>\n",
       "  <tbody>\n",
       "    <tr>\n",
       "      <th>0</th>\n",
       "      <td>183.13</td>\n",
       "      <td>229.62</td>\n",
       "      <td>-0.838867</td>\n",
       "      <td>NaN</td>\n",
       "    </tr>\n",
       "    <tr>\n",
       "      <th>1</th>\n",
       "      <td>182.89</td>\n",
       "      <td>229.63</td>\n",
       "      <td>-0.838867</td>\n",
       "      <td>NaN</td>\n",
       "    </tr>\n",
       "    <tr>\n",
       "      <th>2</th>\n",
       "      <td>183.22</td>\n",
       "      <td>229.70</td>\n",
       "      <td>-0.838867</td>\n",
       "      <td>NaN</td>\n",
       "    </tr>\n",
       "    <tr>\n",
       "      <th>3</th>\n",
       "      <td>183.73</td>\n",
       "      <td>229.65</td>\n",
       "      <td>-0.838867</td>\n",
       "      <td>NaN</td>\n",
       "    </tr>\n",
       "    <tr>\n",
       "      <th>4</th>\n",
       "      <td>183.90</td>\n",
       "      <td>229.70</td>\n",
       "      <td>-0.838867</td>\n",
       "      <td>NaN</td>\n",
       "    </tr>\n",
       "  </tbody>\n",
       "</table>\n",
       "</div>"
      ],
      "text/plain": [
       "        X       Y      Beta  Spread\n",
       "0  183.13  229.62 -0.838867     NaN\n",
       "1  182.89  229.63 -0.838867     NaN\n",
       "2  183.22  229.70 -0.838867     NaN\n",
       "3  183.73  229.65 -0.838867     NaN\n",
       "4  183.90  229.70 -0.838867     NaN"
      ]
     },
     "execution_count": 230,
     "metadata": {},
     "output_type": "execute_result"
    }
   ],
   "source": [
    "COM01_COM05_historical.create_spread()"
   ]
  },
  {
   "cell_type": "code",
   "execution_count": 231,
   "metadata": {},
   "outputs": [],
   "source": [
    "COM01_COM05_historical.generate_signals()"
   ]
  },
  {
   "cell_type": "code",
   "execution_count": 232,
   "metadata": {},
   "outputs": [
    {
     "data": {
      "image/png": "[encoded data removed]",
      "text/plain": [
       "<Figure size 460.8x316.8 with 1 Axes>"
      ]
     },
     "metadata": {},
     "output_type": "display_data"
    }
   ],
   "source": [
    "# Creating returns and passing in our allocation amount\n",
    "COM01_COM05_historical.create_returns(30000,'COM01_COM05')"
   ]
  },
  {
   "cell_type": "code",
   "execution_count": 233,
   "metadata": {},
   "outputs": [],
   "source": [
    "COM01_COM05_historical_rets=COM01_COM05_historical.portfolio['Returns']"
   ]
  },
  {
   "cell_type": "code",
   "execution_count": 234,
   "metadata": {},
   "outputs": [
    {
     "data": {
      "text/plain": [
       "0    1.0\n",
       "1    1.0\n",
       "2    1.0\n",
       "3    1.0\n",
       "4    1.0\n",
       "Name: Returns, dtype: float64"
      ]
     },
     "execution_count": 234,
     "metadata": {},
     "output_type": "execute_result"
    }
   ],
   "source": [
    "# Checking head of returns\n",
    "COM01_COM05_historical_rets.head()"
   ]
  },
  {
   "cell_type": "code",
   "execution_count": 236,
   "metadata": {},
   "outputs": [
    {
     "data": {
      "image/png": "[encoded data removed]",
      "text/plain": [
       "<Figure size 460.8x316.8 with 1 Axes>"
      ]
     },
     "metadata": {},
     "output_type": "display_data"
    }
   ],
   "source": [
    "# COM03_COM05 Bottom Up Historical Implementation\n",
    "COM03_COM05_historical=statarb(training_df['COM03'],training_df['COM05'],6,-2,2,6,COM03_test.iloc[0],COM03_test.iloc[-1])\n",
    "COM03_COM05_historical.create_spread()\n",
    "COM03_COM05_historical.generate_signals()\n",
    "COM03_COM05_historical.create_returns(30000,'COM03_COM05 Over Hist. Train Period')\n",
    "COM03_COM05_historical_rets = COM03_COM05_historical.portfolio['Returns']"
   ]
  },
  {
   "cell_type": "code",
   "execution_count": 237,
   "metadata": {},
   "outputs": [
    {
     "data": {
      "image/png": "[encoded data removed]",
      "text/plain": [
       "<Figure size 460.8x316.8 with 1 Axes>"
      ]
     },
     "metadata": {},
     "output_type": "display_data"
    }
   ],
   "source": [
    "# COM05_COM03 Bottom Up Historical Implementation\n",
    "COM05_COM03_historical=statarb(training_df['COM05'],training_df['COM03'],6,-2,2,6,COM05_test.iloc[0],COM05_test.iloc[-1])\n",
    "COM05_COM03_historical.create_spread()\n",
    "COM05_COM03_historical.generate_signals()\n",
    "COM05_COM03_historical.create_returns(30000,'COM05_COM03 Over Hist. Train Period')\n",
    "COM05_COM03_historical_rets=COM05_COM03_historical.portfolio['Returns']"
   ]
  },
  {
   "cell_type": "markdown",
   "metadata": {},
   "source": [
    "### Step 3: Using Gaussian Mixture Model to Identify Historical Regimes"
   ]
  },
  {
   "cell_type": "code",
   "execution_count": 241,
   "metadata": {},
   "outputs": [],
   "source": [
    "# Splitting historical returns data\n",
    "# COM01_COM05\n",
    "# Getting length of returns data\n",
    "COM01_COM05_rets_len=len(COM01_COM05_historical_rets)\n",
    "COM01_COM05_rets_train=COM01_COM05_historical_rets[0:5242]\n",
    "COM01_COM05_rets_test=COM01_COM05_historical_rets[-1310:]\n",
    "\n",
    "# COM03_COM05\n",
    "# Getting length of returns data\n",
    "COM03_COM05_rets_len=len(COM03_COM05_historical_rets)\n",
    "COM03_COM05_rets_train=COM03_COM05_historical_rets[0:5242]\n",
    "COM03_COM05_rets_test=COM03_COM05_historical_rets[-1310:]\n",
    "\n",
    "# COM05_COM03\n",
    "# Getting length of returns data\n",
    "COM05_COM03_rets_len=len(COM05_COM03_historical_rets)\n",
    "COM05_COM03_rets_train=COM05_COM03_historical_rets[0:5242]\n",
    "COM05_COM03_rets_test=COM05_COM03_historical_rets[-1310:]"
   ]
  },
  {
   "cell_type": "code",
   "execution_count": 258,
   "metadata": {},
   "outputs": [],
   "source": [
    "# We'll start by training our GMM on our training period data, then we'll apply it to our testing period data.\n",
    "# Class for GMM & Random Forest\n",
    "class gmm_randomForests(object):\n",
    "    def __init__(self,historical_rets_train,historical_rets_test,base_portfolio_rets,gmm_components,df,base_portfolio_df,\n",
    "                 internal_test_start,internal_test_end):\n",
    "\n",
    "            '''\n",
    "            PARAMETERS\n",
    "            ##########\n",
    "            The first 3 parameters should have already been sliced from the\n",
    "            entire sample; ie specific dates parsed from dataframe that contains\n",
    "            trade history, returns, and features; other features will be added\n",
    "            later in development within the object\n",
    "            \n",
    "            historical_rets_train- the returns data over the historical period used to train on\n",
    "                                this is the internal train of the internal 80/20 split;the 80%\n",
    "                                of the total historical training set\n",
    "                                \n",
    "            historical_rets_test- retuns data for 20% of internal training test set\n",
    "            \n",
    "            base_portfolio_rets - this is our figurative live data;ie returns; 9/01/18-10/07/18 from either\n",
    "                                Equally Weighted or Efficient Frontier Portfolios dependent upon implementation\n",
    "                                of Bottom Up or SPO Framework\n",
    "            \n",
    "            ex. data over 05/01/18-08/29/18\n",
    "            we would first split this 80/20\n",
    "            the 80% is our training set\n",
    "            the 20% is our testing set\n",
    "            \n",
    "            we would then do another split on our training set created above\n",
    "            this is so that if we can better understand the historical\n",
    "            regimes and recalibrate our models if necessary before actually\n",
    "            predicting our 9/01/18-10/07/18 testing set\n",
    "            \n",
    "            in this ex. our gmm_training_train is 80% of the period 05/01/18-08/29/18\n",
    "            our gmm_training_test is 20% of the period 05/01/18-08/29/18 and our \n",
    "            gmm_test_actual is 9/01/18-10/07/18\n",
    "            \n",
    "            gmm_components - type:int; for number of components for GMM\n",
    "            \n",
    "            df - the entire dataframe containing prior trading history; the dataframe from either Equally Weighted or \n",
    "                 Efficient Frontier Portfolios; Our Random Forests Implementation will take this dataframe created by\n",
    "                 our statarb class(i.e. from the prior portfolios) and add our features to it. It will then use these \n",
    "                 features to predict the regimes of our test period. Recall that our Equally Weighted and Efficient \n",
    "                 Frontier Portfolios were constructed over our assessment period of 9/1/18 to 10/07/18. We will then\n",
    "                 be able to store our predictions in a varible for our test period. These predictions will be passed \n",
    "                 into a new statarb object as a parameter and be used to create the Bottom Up and SPO Framework Portfolios.\n",
    "            \n",
    "            total_training_start- type: string; the beginning of the historical period for analysis; input as string\n",
    "                                    from example above would be 2012\n",
    "            \n",
    "            total_training_end - type:string; the end of the historical period for analysis; input as string;\n",
    "                                    from example above would be 2017\n",
    "                                    \n",
    "            base_portfolio_df - (i.e.adbe_antm.df,etc)Note: for the Bottom Up Implementation this df would be the Equally Weighted df but for the \n",
    "                            SPO Framework df this would be the df from the Efficient Frontier implementation\n",
    "            \n",
    "            internal_test_start- type:int; this is the testing period for the total training period; in the example,\n",
    "                                this is the assessment period of 09/01/18-10/07/18; start thus is len(strategy_object)*.80\n",
    "                                \n",
    "                                \n",
    "            internal_test_end - type:int; this is the end of the assessment period; ie. the 20% testing split\n",
    "                                of the broader split...this value is -len(strategy_object)*.20...Note this value is \n",
    "                                is negative because we want the last 20% of the data\n",
    "                                                    \n",
    "                                The last two methods are created as such because our Equally Weighted and Efficient Frontier \n",
    "                                Portfolios are not indexed by dates but are indexed by a sequence of ints. This means \n",
    "                                that in a later method(i.e. Random Forests) we have to pass in the int value of the index\n",
    "                                position we want to parse\n",
    "            '''\n",
    "            self.historical_rets_train=historical_rets_train\n",
    "            self.historical_rets_test=historical_rets_test\n",
    "            self.base_portfolio_rets=base_portfolio_rets\n",
    "            self.gmm_components=gmm_components\n",
    "            self.max_iter=300\n",
    "            self.random_state=101\n",
    "            self.df=df\n",
    "            #self.total_training_start=total_training_start\n",
    "            #self.total_training_end=total_training_end\n",
    "            self.base_portfolio_df=base_portfolio_df\n",
    "            self.internal_test_start=internal_test_start\n",
    "            self.internal_test_end=internal_test_end\n",
    "            #creating volatility\n",
    "            self.volatility=self.historical_rets_train.rolling(window=5).std()\n",
    "            self.negative_volatility=np.where(self.historical_rets_train<0,self.historical_rets_train.rolling(window=5).std(),0)\n",
    "        \n",
    "            \n",
    "    def make_gmm(self):\n",
    "        model_kwds=dict(n_components=self.gmm_components,max_iter=self.max_iter,n_init=100,random_state=self.random_state)\n",
    "        \n",
    "        gmm=GM(**model_kwds)\n",
    "        \n",
    "        return gmm\n",
    "    \n",
    "    def analyze_historical_regimes(self):\n",
    "        #Creating a Gaussian Mixture Model\n",
    "        self.gmm=self.make_gmm()\n",
    "        \n",
    "        #instantiating the XTrain as the gmm_training_train; (i.e. the 80% of total training period)\n",
    "        self.gmm_XTrain=np.array(self.historical_rets_train).reshape(-1,1)\n",
    "        \n",
    "        #Fitting the GMM on the Training Set(note this is the internal training set within the broader training set)\n",
    "        self.gmm.fit(self.gmm_XTrain.astype(int))\n",
    "        \n",
    "        #Making predictions on the historical period; ie. the gmm_training_train\n",
    "        self.gmm_historical_predictions=self.gmm.predict(self.gmm_XTrain.astype(int))\n",
    "        \n",
    "        #Making Predictions on the gmm_training_test (i.e. the 20% of total training period;)\n",
    "        self.gmm_XTest=np.array(self.historical_rets_test).reshape(-1,1)\n",
    "        self.gmm_training_test_predictions=self.gmm.predict(self.gmm_XTest.astype(int))\n",
    "        \n",
    "        #Fitting the Model on ACTUAL data we want to Predict Regimes For\n",
    "        self.gmm_Actual=np.array(self.base_portfolio_rets).reshape(-1,1)\n",
    "        self.base_portfolio_predictions=self.gmm.predict(self.gmm_Actual)\n",
    "        \n",
    "        \n",
    "        return\n",
    "\n",
    "    def historical_regime_returns_volatility(self,plotTitle):\n",
    "        self.plotTitle=plotTitle\n",
    "        data=pd.DataFrame({'Volatility':self.volatility,'Regime':self.gmm_historical_predictions,'Returns':self.historical_rets_train})\n",
    "        \n",
    "        with plt.style.context(['classic','seaborn-paper']):\n",
    "            fig,ax=plt.subplots(figsize=(15,10),nrows=1, ncols=2)\n",
    "            \n",
    "            left   =  0.125  # the left side of the subplots of the figure\n",
    "            right  =  0.9    # the right side of the subplots of the figure\n",
    "            bottom =  .125    # the bottom of the subplots of the figure\n",
    "            top    =  0.9    # the top of the subplots of the figure \n",
    "            wspace =  .5     # the amount of width reserved for blank space between subplots\n",
    "            hspace =  1.1    # the amount of height reserved for white space between subplots\n",
    "            # function that adjusts subplots using the above paramters\n",
    "            plt.subplots_adjust(\n",
    "                left    =  left, \n",
    "                bottom  =  bottom, \n",
    "                right   =  right, \n",
    "                top     =  top, \n",
    "                wspace  =  wspace, \n",
    "                hspace  =  hspace\n",
    "            )\n",
    "            \n",
    "            # The amount of space above titles\n",
    "            y_title_margin = 2\n",
    "            \n",
    "            plt.suptitle(self.plotTitle, y = 1, fontsize=20)\n",
    "            \n",
    "            plt.subplot(121)\n",
    "            sns.swarmplot(x='Regime',y='Volatility',data=data)#,ax=ax[0][0])\n",
    "            plt.title('Regime to Volatility')\n",
    "            \n",
    "            plt.subplot(122)\n",
    "            sns.swarmplot(x='Regime',y='Returns',data=data)#, ax=ax[0][1]) \n",
    "            plt.title('Regime to Returns')\n",
    "            plt.tight_layout()\n",
    "            plt.show()\n",
    "            \n",
    "            return\n",
    "\n",
    "                \n",
    "    def train_random_forests(self):\n",
    "            #adding Features to the DataFrame\n",
    "            #assumption is that this is the df \n",
    "            #over the entire period\n",
    "            \n",
    "            '''CAN UNCOMMENT THE SELF.VIX CODE TO INCLUDE VIX IN ANALYSIS..NOTE CHANGES TO PANDAS_DATAREADER API'''\n",
    "            #getting vix to add as feature\n",
    "            #self.VIX=pdr.get_data_yahoo('^VIX',start=self.total_training_start,end=self.total_training_end)\n",
    "\n",
    "            #creating features\n",
    "            #self.df['VIX']=self.VIX['Close']\n",
    "            self.df['6 X Vol']=self.df['X'].rolling(window=6).std()\n",
    "            self.df['6 Y Vol']=self.df['Y'].rolling(window=6).std()\n",
    "            self.df['6 Spread Vol']=self.df['Spread'].rolling(window=6).std()\n",
    "            self.df['6 Z-Score Vol']=self.df['Z-Score'].rolling(window=6).std()\n",
    "\n",
    "            self.df['12 X Vol']=self.df['X'].rolling(window=12).std()\n",
    "            self.df['12 Y Vol']=self.df['Y'].rolling(window=12).std()\n",
    "            self.df['12 Spread Vol']=self.df['Spread'].rolling(window=12).std()\n",
    "            self.df['12 Z-Score Vol']=self.df['Z-Score'].rolling(window=12).std()\n",
    "\n",
    "            self.df['15 X Vol']=self.df['X'].rolling(window=15).std()\n",
    "            self.df['15 Y Vol']=self.df['Y'].rolling(window=15).std()\n",
    "            self.df['15 Spread Vol']=self.df['Spread'].rolling(window=15).std()\n",
    "            self.df['15 Z-Score Vol']=self.df['Z-Score'].rolling(window=15).std()\n",
    "            \n",
    "            #adding features to our historical df\n",
    "            #self.base_portfolio_df['VIX']=self.VIX['Close']\n",
    "            self.base_portfolio_df['6 X Vol']=self.df['X'].rolling(window=6).std()\n",
    "            self.base_portfolio_df['6 Y Vol']=self.df['Y'].rolling(window=6).std()\n",
    "            self.base_portfolio_df['6 Spread Vol']=self.df['Spread'].rolling(window=6).std()\n",
    "            self.base_portfolio_df['6 Z-Score Vol']=self.df['Z-Score'].rolling(window=6).std()\n",
    "\n",
    "            self.base_portfolio_df['12 X Vol']=self.df['X'].rolling(window=12).std()\n",
    "            self.base_portfolio_df['12 Y Vol']=self.df['Y'].rolling(window=12).std()\n",
    "            self.base_portfolio_df['12 Spread Vol']=self.df['Spread'].rolling(window=12).std()\n",
    "            self.base_portfolio_df['12 Z-Score Vol']=self.df['Z-Score'].rolling(window=12).std()\n",
    "\n",
    "            self.base_portfolio_df['15 X Vol']=self.df['X'].rolling(window=15).std()\n",
    "            self.base_portfolio_df['15 Y Vol']=self.df['Y'].rolling(window=15).std()\n",
    "            self.base_portfolio_df['15 Spread Vol']=self.df['Spread'].rolling(window=15).std()\n",
    "            self.base_portfolio_df['15 Z-Score Vol']=self.df['Z-Score'].rolling(window=15).std()\n",
    "\n",
    "\n",
    "            #replacing na values\n",
    "            self.df.fillna(0, inplace=True)\n",
    "            #Creating X_Train for RF over the Historical Period; Will train\n",
    "            #over Historical period, ie. self.historical_training_start/end\n",
    "            #then predict \n",
    "            self.RF_X_TRAIN=self.df[0:5242][['6 X Vol','6 Y Vol','6 Spread Vol','6 Z-Score Vol','12 X Vol','12 Y Vol',\n",
    "                                               '12 Spread Vol','12 Z-Score Vol','15 X Vol','15 Y Vol','15 Spread Vol','15 Z-Score Vol']]\n",
    "            #dropping unnecessary columns from train data\n",
    "            #self.RF_X_TRAIN.drop(['X','Y','Longs','Shorts','Exit','Long_Market','Short_Market'],inplace=True,axis=1)\n",
    "            \n",
    "            #setting Y_Train for the RF to the predictions of GMM over historical period\n",
    "            self.RF_Y_TRAIN=self.gmm_historical_predictions\n",
    "\n",
    "            #Creating X_Test for the RF; ie the gmm_training_test period\n",
    "            #our features for RF\n",
    "            #that haven't been seen by the model\n",
    "            self.RF_X_TEST=self.base_portfolio_df[['6 X Vol','6 Y Vol','6 Spread Vol','6 Z-Score Vol','12 X Vol','12 Y Vol',\n",
    "                                               '12 Spread Vol','12 Z-Score Vol','15 X Vol','15 Y Vol','15 Spread Vol','15 Z-Score Vol']]\\\n",
    "            \n",
    "            #dropping unnecessary columns from train data\n",
    "            #self.RF_X_TEST.drop(['X','Y','Longs','Shorts','Exit','Long_Market','Short_Market'],inplace=True,axis=1)\n",
    "\n",
    "            #predictions for the x test over the internal testing period\n",
    "            self.RF_Y_TEST=self.base_portfolio_predictions #regime predictions for base portfolio\n",
    "\n",
    "            #build the RandomForest and check precision\n",
    "            self.RF_MODEL=RF(n_estimators=100) #Recall imported RandomForestsClassifier as RF\n",
    "            \n",
    "            #training the random forests model on assessment period data\n",
    "            self.RF_MODEL.fit(self.RF_X_TRAIN.fillna(0),self.RF_Y_TRAIN)\n",
    "            \n",
    "            #Making predictions for base portfolio period\n",
    "            self.RF_BASE_PORTFOLIO_PREDICTIONS=self.RF_MODEL.predict(self.RF_X_TEST.fillna(0))\n",
    "\n",
    "            #Checking Precision of Predictions\n",
    "            #print(confusion_matrix(self.RF_Y_TEST,self.RF_BASE_PORTFOLIO_PREDICTIONS))\n",
    "            #print('\\n')\n",
    "            #print(classification_report(self.RF_Y_TEST,self.RF_BASE_PORTFOLIO_PREDICTIONS))\n",
    "\n",
    "\n",
    "                \n",
    "            return"
   ]
  },
  {
   "cell_type": "code",
   "execution_count": 259,
   "metadata": {},
   "outputs": [],
   "source": [
    "# Initializing GMM Random Forests method\n",
    "# Passing in the \n",
    "# 1) Returns for 80% of the training period(i.e.05/01/18-08/29/18),\n",
    "# 2) Returns for 20% of the training period(i.e.05/01/18-08/29/18)\n",
    "# 3) Returns for actual or overall test period; (i.e. 09/01/18-10/07/18) for Equally Weighted, \n",
    "# 4) count for GMMs, \n",
    "# 5) Dataframe for Equally Weighted,\n",
    "COM01_COM05_gmm_rf=gmm_randomForests(COM01_COM05_rets_train,COM01_COM05_rets_test,COM01_COM05.portfolio['Returns'],5,\n",
    "                                 COM01_COM05_historical.df, COM01_COM05.df,1621,-405)"
   ]
  },
  {
   "cell_type": "code",
   "execution_count": 260,
   "metadata": {},
   "outputs": [],
   "source": [
    "# Calling our analyze historical regimes method\n",
    "COM01_COM05_gmm_rf.analyze_historical_regimes()"
   ]
  },
  {
   "cell_type": "code",
   "execution_count": null,
   "metadata": {},
   "outputs": [],
   "source": [
    "# Create charts for volatility and returns\n",
    "COM01_COM05_gmm_rf.historical_regime_returns_volatility('COM01_COM05 GMM Analysis')"
   ]
  },
  {
   "cell_type": "code",
   "execution_count": 262,
   "metadata": {},
   "outputs": [],
   "source": [
    "# Do the same for the remaining two pairs\n",
    "COM03_COM05_gmm_rf=gmm_randomForests(COM03_COM05_rets_train,COM03_COM05_rets_test,COM03_COM05.portfolio['Returns'],5,\n",
    "                                 COM03_COM05_historical.df, COM03_COM05.df,1621,-405)\n",
    "COM03_COM05_gmm_rf.analyze_historical_regimes()\n",
    "COM03_COM05_gmm_rf.historical_regime_returns_volatility('COM03_COM05 GMM Analysis')"
   ]
  },
  {
   "cell_type": "code",
   "execution_count": 263,
   "metadata": {},
   "outputs": [],
   "source": [
    "COM05_COM03_gmm_rf=gmm_randomForests(COM05_COM03_rets_train,COM05_COM03_rets_test,COM05_COM03.portfolio['Returns'],5,\n",
    "                                 COM05_COM03_historical.df, COM05_COM03.df,1621,-405)\n",
    "COM05_COM03_gmm_rf.analyze_historical_regimes()\n",
    "COM05_COM03_gmm_rf.historical_regime_returns_volatility('COM05_COM03 GMM Analysis')"
   ]
  },
  {
   "cell_type": "markdown",
   "metadata": {},
   "source": [
    "### Step 4: Training Random Forests to Predict Regimes"
   ]
  },
  {
   "cell_type": "code",
   "execution_count": 264,
   "metadata": {},
   "outputs": [],
   "source": [
    "# ADBE_ANTM Random Forests Implementation.\n",
    "# Calling the train_random_forests method on our adbe_antm_gmm_rf object\n",
    "COM01_COM05_gmm_rf.train_random_forests()"
   ]
  },
  {
   "cell_type": "code",
   "execution_count": 265,
   "metadata": {},
   "outputs": [],
   "source": [
    "COM01_COM05_regime_predictions=COM01_COM05_gmm_rf.base_portfolio_predictions"
   ]
  },
  {
   "cell_type": "code",
   "execution_count": 266,
   "metadata": {},
   "outputs": [],
   "source": [
    "#calling the train_random_forests method on our antm_aet_gmm_rf object\n",
    "COM03_COM05_gmm_rf.train_random_forests()"
   ]
  },
  {
   "cell_type": "code",
   "execution_count": 267,
   "metadata": {},
   "outputs": [],
   "source": [
    "COM03_COM05_regime_predictions=COM03_COM05_gmm_rf.base_portfolio_predictions"
   ]
  },
  {
   "cell_type": "code",
   "execution_count": 268,
   "metadata": {},
   "outputs": [],
   "source": [
    "#calling the train_random_forests method on our antm_aet_gmm_rf object\n",
    "COM05_COM03_gmm_rf.train_random_forests()"
   ]
  },
  {
   "cell_type": "code",
   "execution_count": 269,
   "metadata": {},
   "outputs": [],
   "source": [
    "COM05_COM03_regime_predictions=COM05_COM03_gmm_rf.base_portfolio_predictions"
   ]
  },
  {
   "cell_type": "markdown",
   "metadata": {},
   "source": [
    "### Step 5: Using the Model's Predictions in Strategy Development"
   ]
  },
  {
   "cell_type": "code",
   "execution_count": 270,
   "metadata": {},
   "outputs": [],
   "source": [
    "# We'll begin by creating an updated version of our statarb class that will allow us to pass in our regime predictions.\n",
    "class statarb_update(object):\n",
    "     #np.seterr(divide='ignore',invalid='ignore')\n",
    "    \n",
    "     def __init__(self,df1, df2, ptype,ma,floor, ceiling,beta_lookback,start,end,regimePredictions,p2Objective,avoid1=0,target1=0,\n",
    "                  exit_zscore=0):\n",
    "        #setting the attributes of the data cleaning object\n",
    "        self.df1=df1 #the complete dataframe of X\n",
    "        self.df2=df2 # the comlete dataframe of Y\n",
    "        self.df=pd.DataFrame(index=df1.index) #creates a new dataframe in the create_spread method\n",
    "        self.ptype=ptype #the portfolio type 1= standard implementation 2=machine learning implementation\n",
    "        self.ma=ma# the moving average period for the model\n",
    "        self.floor=floor #the buy threshold for the z-score\n",
    "        self.ceiling=ceiling #the sell threshold for the z-score\n",
    "        self.Close='Close Long'  #used as close signal for longs\n",
    "        self.Cover='Cover Short' #used as close signal for shorts\n",
    "        self.exit_zscore=exit_zscore  #the z-score\n",
    "        self.beta_lookback=beta_lookback #the lookback of beta for hedge ratio\n",
    "        self.start=start #the beginning of test period as a string\n",
    "        self.end=end    # the end of test period as a string\n",
    "        self.regimePredictions=regimePredictions.reshape(-1,1)  #the regime predictions from GMM for p2=2 implementation\n",
    "        self.avoid1=avoid1 #the regime to avoid\n",
    "        self.target1=target1 #the regime to target\n",
    "        self.p2Objective=p2Objective #type:string;#the objective of p2 implementation; can be 'Avoid','Target',or 'None'; \n",
    "                                \n",
    "        \n",
    "     #create price spread\n",
    "     def create_spread(self):\n",
    "            if self.ptype==1:\n",
    "                #setting the new dataframe values for x and y of the closing \n",
    "                #prices of the two dataframes passed in\n",
    "                self.df['X']=self.df1[' Close']\n",
    "                self.df['Y']=self.df2[' Close']\n",
    "\n",
    "                #calculating the beta of the pairs             \n",
    "                self.ols=linregress(self.df['Y'],self.df['X'])\n",
    "\n",
    "                #setting the hedge ratio\n",
    "                self.df['Hedge Ratio']=self.ols[0]\n",
    "\n",
    "                self.df['Spread']=self.df['Y']-(self.df['Hedge Ratio']*self.df['X'])\n",
    "\n",
    "            if self.ptype==2:\n",
    "                #setting the new dataframe values for x and y of the closing \n",
    "                #prices of the two dataframes passed in\n",
    "                self.df['X']=self.df1[' Close']\n",
    "                self.df['Y']=self.df2[' Close']\n",
    "\n",
    "\n",
    "                #calculating the beta of the pairs                \n",
    "                self.ols=linregress(self.df['Y'],self.df['X'])\n",
    "\n",
    "                #setting the hedge ratio\n",
    "                self.df['Hedge Ratio']=self.ols[0]\n",
    "                #creating spread\n",
    "                self.df['Spread']=self.df['Y']-(self.df['Hedge Ratio']*self.df['X'])\n",
    "                \n",
    "                #creating the z-score\n",
    "                self.df['Z-Score']=(self.df['Spread']-self.df['Spread'].rolling(window=self.ma).mean())/self.df['Spread'].rolling(window=self.ma).std()\n",
    "                \n",
    "                \n",
    "                #Creating the features columns\n",
    "                self.df['6 X Vol']=self.df['X'].rolling(window=6).std()\n",
    "                self.df['6 Y Vol']=self.df['Y'].rolling(window=6).std()\n",
    "                self.df['6 Spread Vol']=self.df['Spread'].rolling(window=6).std()\n",
    "                self.df['6 Z-Score Vol']=self.df['Z-Score'].rolling(window=6).std()\n",
    "\n",
    "                self.df['12 X Vol']=self.df['X'].rolling(window=12).std()\n",
    "                self.df['12 Y Vol']=self.df['Y'].rolling(window=12).std()\n",
    "                self.df['12 Spread Vol']=self.df['Spread'].rolling(window=12).std()\n",
    "                self.df['12 Z-Score Vol']=self.df['Z-Score'].rolling(window=12).std()\n",
    "\n",
    "                self.df['15 X Vol']=self.df['X'].rolling(window=15).std()\n",
    "                self.df['15 Y Vol']=self.df['Y'].rolling(window=15).std()\n",
    "                self.df['15 Spread Vol']=self.df['Spread'].rolling(window=15).std()\n",
    "                self.df['15 Z-Score Vol']=self.df['Z-Score'].rolling(window=15).std()\n",
    "                #Creating the Regime Prediction Column\n",
    "                self.df['Regime']=0\n",
    "                self.df['Regime']=self.regimePredictions.astype(int)\n",
    "                \n",
    "\n",
    "                \n",
    "\n",
    "            return\n",
    "    \n",
    "            \n",
    "     def generate_signals(self):\n",
    "            if self.ptype==1:\n",
    "            \n",
    "                #creating the z-score\n",
    "                self.df['Z-Score']=(self.df['Spread']-self.df['Spread'].rolling(window=self.ma).mean())/self.df['Spread'].rolling(window=self.ma).std()\n",
    "                \n",
    "                #prior z-score\n",
    "                self.df['Prior Z-Score']=self.df['Z-Score'].shift(1)\n",
    "                \n",
    "                #Creating Buy and Sell Signals; when to be long, short, exit\n",
    "                \n",
    "                #self.df['Signal']=np.where(self.df['Z-Score']<=self.floor,'BUY', np.where(self.df['Z-Score']>=self.ceiling,'SELL','FLAT'))\n",
    "                #self.df['Prior Signal']=self.df['Signal'].shift(1)\n",
    "                \n",
    "                self.df['Longs']=(self.df['Z-Score']<=self.floor)*1.0 #buy the spread\n",
    "                self.df['Shorts']=(self.df['Z-Score']>=self.ceiling)*1.0 #short the spread\n",
    "                self.df['Exit']=(self.df['Z-Score']<=self.exit_zscore)*1.0\n",
    "                \n",
    "                #tracking positions via for loop implementation\n",
    "                self.df['Long_Market']=0.0\n",
    "                self.df['Short_Market']=0.0\n",
    "                \n",
    "                #Setting Variables to track whether or not to be long while iterating over df\n",
    "                self.long_market=0\n",
    "                self.short_market=0\n",
    "                \n",
    "                #Determining when to trade\n",
    "                for i,value in enumerate(self.df.iterrows()):\n",
    "                    #Calculate logns\n",
    "                    if value[1]['Longs']==1.0:\n",
    "                        self.long_market=1\n",
    "                        \n",
    "                    if value[1]['Shorts']==1.0:\n",
    "                        self.short_market=1\n",
    "                        \n",
    "                    if value[1]['Exit']==1.0:\n",
    "                        \n",
    "                        self.long_market=0\n",
    "                        self.short_market=0\n",
    "                        \n",
    "                    self.df.iloc[i]['Long_Market']=self.long_market\n",
    "                    self.df.iloc[i]['Short_Market']=self.short_market\n",
    "  \n",
    "                    \n",
    "            if self.ptype==2:        \n",
    "                \n",
    "                \n",
    "                \n",
    "                self.df['Longs']=(self.df['Z-Score']<=self.floor)*1.0 #buy the spread\n",
    "                self.df['Shorts']=(self.df['Z-Score']>=self.ceiling)*1.0 #short the spread\n",
    "                self.df['Exit']=(self.df['Z-Score']<=self.exit_zscore)*1.0\n",
    "                \n",
    "                #tracking positions via for loop implementation\n",
    "                self.df['Long_Market']=0.0\n",
    "                self.df['Short_Market']=0.0\n",
    "                \n",
    "                #Setting Variables to track whether or not to be long while iterating over df\n",
    "                self.long_market=0\n",
    "                self.short_market=0\n",
    "                \n",
    "                #Determining when to trade\n",
    "                for i,value in enumerate(self.df.iterrows()):\n",
    "                    if self.p2Objective=='Avoid':\n",
    "                        if value[1]['Regime']!= self.avoid1:\n",
    "                            #Calculate longs\n",
    "                            if value[1]['Longs']==1.0:\n",
    "                                self.long_market=1\n",
    "\n",
    "                            if value[1]['Shorts']==1.0:\n",
    "                                self.short_market=1\n",
    "\n",
    "                            if value[1]['Exit']==1.0:\n",
    "\n",
    "                                self.long_market=0\n",
    "                                self.short_market=0\n",
    "                                \n",
    "                        self.df.iloc[i]['Long_Market']=value[1]['Longs']#self.long_market\n",
    "                        self.df.iloc[i]['Short_Market']=value[1]['Shorts']#self.short_market\n",
    "                                \n",
    "                    elif self.p2Objective=='Target':\n",
    "                        if value[1]['Regime']==self.target1:\n",
    "                            #Calculate longs\n",
    "                            if value[1]['Longs']==1.0:\n",
    "                                self.long_market=1\n",
    "\n",
    "                            if value[1]['Shorts']==1.0:\n",
    "                                self.short_market=1\n",
    "\n",
    "                            if value[1]['Exit']==1.0:\n",
    "\n",
    "                                self.long_market=0\n",
    "                                self.short_market=0\n",
    "                        \n",
    "                        self.df.iloc[i]['Long_Market']=value[1]['Longs']#self.long_market\n",
    "                        self.df.iloc[i]['Short_Market']=value[1]['Shorts']#self.short_market\n",
    "                                \n",
    "                    elif self.p2Objective=='None':\n",
    "                        \n",
    "                        #Calculate longs\n",
    "                        if value[1]['Longs']==1.0:\n",
    "                            self.long_market=1\n",
    "                        #Calculate Shorts\n",
    "                        if value[1]['Shorts']==1.0:\n",
    "                            self.short_market=1\n",
    "\n",
    "                        if value[1]['Exit']==1.0:\n",
    "\n",
    "                            self.long_market=0\n",
    "                            self.short_market=0\n",
    "\n",
    "                        self.df.iloc[i]['Long_Market']=value[1]['Longs']#self.long_market\n",
    "                        self.df.iloc[i]['Short_Market']=value[1]['Shorts']#self.short_market\n",
    "  \n",
    "                \n",
    "                \n",
    "               \n",
    "            return self.df                    \n",
    "        \n",
    "     def create_returns(self, allocation,pair_number):\n",
    "        if self.ptype==1:         \n",
    "            '''\n",
    "            PARAMETERS\n",
    "            ##########\n",
    "            allocation - the amount of capital alotted for pair\n",
    "            pair_number - string to annotate the plots\n",
    "\n",
    "            '''\n",
    "            self.allocation=allocation \n",
    "            self.pair=pair_number\n",
    "\n",
    "            self.portfolio=pd.DataFrame(index=self.df.index)\n",
    "            self.portfolio['Positions']=self.df['Long_Market']-self.df['Short_Market']\n",
    "            self.portfolio['X']=-1.0*self.df['X']*self.portfolio['Positions']\n",
    "            self.portfolio['Y']=self.df['Y']*self.portfolio['Positions']\n",
    "            self.portfolio['Total']=self.portfolio['X']+self.portfolio['Y']\n",
    "\n",
    "\n",
    "            #creating a percentage return stream\n",
    "            self.portfolio['Returns']=self.portfolio['Total'].pct_change()\n",
    "            self.portfolio['Returns'].fillna(0.0,inplace=True)\n",
    "            self.portfolio['Returns'].replace([np.inf,-np.inf],0.0,inplace=True)\n",
    "            self.portfolio['Returns'].replace(-1.0,0.0,inplace=True)\n",
    "\n",
    "\n",
    "            #calculating metrics\n",
    "            self.mu=(self.portfolio['Returns'].mean())\n",
    "            self.sigma=(self.portfolio['Returns'].std())\n",
    "            self.portfolio['Win']=np.where(self.portfolio['Returns']>0,1,0)\n",
    "            self.portfolio['Loss']=np.where(self.portfolio['Returns']<0,1,0)\n",
    "            self.wins=self.portfolio['Win'].sum()\n",
    "            self.losses=self.portfolio['Loss'].sum()\n",
    "            self.total_trades=self.wins+self.losses\n",
    "            #calculating sharpe ratio with interest rate of \n",
    "            #interest_rate_assumption=0.75\n",
    "            #self.sharp=(self.mu-interest_rate_assumption)/self.sigma\n",
    "\n",
    "            #win loss ratio; \n",
    "            self.win_loss_ratio=(self.wins/self.losses)\n",
    "\n",
    "            #probability of win\n",
    "            self.prob_of_win=(self.wins/self.total_trades)\n",
    "            #probability of loss\n",
    "            self.prob_of_loss=(self.losses/self.total_trades)\n",
    "\n",
    "            #average return of wins\n",
    "            self.avg_win_return=(self.portfolio['Returns']>0).mean()\n",
    "            #average returns of losses\n",
    "            self.avg_loss_return=(self.portfolio['Returns']<0).mean()\n",
    "            #calculating payout ratio\n",
    "            self.payout_ratio=(self.avg_win_return/self.avg_loss_return)\n",
    "\n",
    "            #calculate equity curve\n",
    "            self.portfolio['Returns']=(self.portfolio['Returns']+1.0).cumprod()\n",
    "            self.portfolio['Trade Returns']=(self.portfolio['Total'].pct_change()) #non cumulative Returns\n",
    "            self.portfolio['Portfolio Value']=(self.allocation*self.portfolio['Returns'])\n",
    "            self.portfolio['Portfolio Returns']=self.portfolio['Portfolio Value'].pct_change()\n",
    "            self.portfolio['Initial Value']=self.allocation\n",
    "\n",
    "            with plt.style.context(['ggplot','seaborn-paper']):\n",
    "                #Plotting Portfolio Value   \n",
    "                plt.plot(self.portfolio['Portfolio Value'])\n",
    "                plt.plot(self.portfolio['Initial Value'])\n",
    "                plt.title('%s Strategy Returns '%(self.pair))\n",
    "                plt.legend(loc=0)\n",
    "                plt.show()\n",
    "\n",
    "    \n",
    "                \n",
    "        \n",
    "        if self.ptype==2:\n",
    "            '''\n",
    "            PARAMETERS\n",
    "            ##########\n",
    "            allocation - the amount of capital alotted for pair\n",
    "            pair_number - string to annotate the plots\n",
    "\n",
    "            '''\n",
    "            self.allocation=allocation \n",
    "            self.pair=pair_number\n",
    "\n",
    "            self.portfolio=pd.DataFrame(index=self.df.index)\n",
    "            self.portfolio['Positions']=self.df['Longs']-self.df['Shorts']\n",
    "            self.portfolio['X']=-1.0*self.df['X']*self.portfolio['Positions']\n",
    "            self.portfolio['Y']=self.df['Y']*self.portfolio['Positions']\n",
    "            self.portfolio['Total']=self.portfolio['X']+self.portfolio['Y']\n",
    "            \n",
    "            self.portfolio.fillna(0.0,inplace=True)\n",
    "\n",
    "\n",
    "            #creating a percentage return stream\n",
    "            self.portfolio['Returns']=self.portfolio['Total'].pct_change()\n",
    "            self.portfolio['Returns'].fillna(0.0,inplace=True)\n",
    "            self.portfolio['Returns'].replace([np.inf,-np.inf],0.0,inplace=True)\n",
    "            self.portfolio['Returns'].replace(-1.0,0.0,inplace=True)\n",
    "\n",
    "\n",
    "            #calculating metrics\n",
    "            self.mu=(self.portfolio['Returns'].mean())\n",
    "            self.sigma=(self.portfolio['Returns'].std())\n",
    "            self.portfolio['Win']=np.where(self.portfolio['Returns']>0,1,0)\n",
    "            self.portfolio['Loss']=np.where(self.portfolio['Returns']<0,1,0)\n",
    "            self.wins=self.portfolio['Win'].sum()\n",
    "            self.losses=self.portfolio['Loss'].sum()\n",
    "            self.total_trades=self.wins+self.losses\n",
    "            #calculating sharpe ratio with interest rate of \n",
    "            #interest_rate_assumption=0.75\n",
    "            #self.sharp=(self.mu-interest_rate_assumption)/self.sigma\n",
    "\n",
    "            #win loss ratio; \n",
    "            self.win_loss_ratio=(self.wins/self.losses)\n",
    "\n",
    "            #probability of win\n",
    "            self.prob_of_win=(self.wins/self.total_trades)\n",
    "            #probability of loss\n",
    "            self.prob_of_loss=(self.losses/self.total_trades)\n",
    "\n",
    "            #average return of wins\n",
    "            self.avg_win_return=(self.portfolio['Returns']>0).mean()\n",
    "            #average returns of losses\n",
    "            self.avg_loss_return=(self.portfolio['Returns']<0).mean()\n",
    "            #calculating payout ratio\n",
    "            self.payout_ratio=(self.avg_win_return/self.avg_loss_return)\n",
    "\n",
    "            #calculate equity curve\n",
    "            self.portfolio['Returns']=(self.portfolio['Returns']+1.0).cumprod()\n",
    "            self.portfolio['Trade Returns']=(self.portfolio['Total'].pct_change()) #non cumulative Returns\n",
    "            self.portfolio['Portfolio Value']=(self.allocation*self.portfolio['Returns'])\n",
    "            self.portfolio['Portfolio Returns']=self.portfolio['Portfolio Value'].pct_change()\n",
    "            self.portfolio['Initial Value']=self.allocation\n",
    "\n",
    "            with plt.style.context(['ggplot','seaborn-paper']):\n",
    "                #Plotting Portfolio Value   \n",
    "                plt.plot(self.portfolio['Portfolio Value'])\n",
    "                plt.plot(self.portfolio['Initial Value'])\n",
    "                plt.title('%s Strategy Returns '%(self.pair))\n",
    "                plt.legend(loc=0)\n",
    "                plt.show()\n",
    "\n",
    "\n",
    "\n",
    "                \n",
    "        return #self.portfolio['Portfolio Value'].plot()"
   ]
  },
  {
   "cell_type": "code",
   "execution_count": 271,
   "metadata": {},
   "outputs": [],
   "source": [
    "#creating instance of updated statarb strategy\n",
    "COM01_COM05_bottom_up=statarb_update(COM01_test, COM05_test, 2,17,-2, 2,17,'09/01/18','10/07/18',COM01_COM05_regime_predictions,'Target',avoid1=0,target1=1,\n",
    "                  exit_zscore=0)"
   ]
  },
  {
   "cell_type": "code",
   "execution_count": 272,
   "metadata": {},
   "outputs": [
    {
     "data": {
      "image/png": "[encoded data removed]",
      "text/plain": [
       "<Figure size 460.8x316.8 with 1 Axes>"
      ]
     },
     "metadata": {},
     "output_type": "display_data"
    }
   ],
   "source": [
    "#creating spread\n",
    "COM01_COM05_bottom_up.create_spread()\n",
    "#generating signals\n",
    "COM01_COM05_bottom_up.generate_signals()\n",
    "#getting performance\n",
    "#notice that we are passing in our equal weight amount here\n",
    "COM01_COM05_bottom_up.create_returns(30000,'COM01_COM05 Bottom Up')"
   ]
  },
  {
   "cell_type": "code",
   "execution_count": 274,
   "metadata": {},
   "outputs": [],
   "source": [
    "#creating instance of updated statarb strategy\n",
    "COM03_COM05_bottom_up=statarb_update(COM03_test, COM05_test, 2,17,-2, 2,17,'09/01/18','10/07/18',COM03_COM05_regime_predictions,'Target',avoid1=0,target1=1,\n",
    "                  exit_zscore=0)"
   ]
  },
  {
   "cell_type": "code",
   "execution_count": 275,
   "metadata": {},
   "outputs": [
    {
     "data": {
      "image/png": "[encoded data removed]",
      "text/plain": [
       "<Figure size 460.8x316.8 with 1 Axes>"
      ]
     },
     "metadata": {},
     "output_type": "display_data"
    }
   ],
   "source": [
    "#creating spread\n",
    "COM03_COM05_bottom_up.create_spread()\n",
    "#generating signals\n",
    "COM03_COM05_bottom_up.generate_signals()\n",
    "#getting performance\n",
    "#notice that we are passing in our equal weight amount here\n",
    "COM03_COM05_bottom_up.create_returns(30000,'COM03_COM05 Bottom Up')"
   ]
  },
  {
   "cell_type": "code",
   "execution_count": 276,
   "metadata": {},
   "outputs": [],
   "source": [
    "#creating instance of updated statarb strategy\n",
    "COM05_COM03_bottom_up=statarb_update(COM05_test, COM03_test, 2,17,-2, 2,17,'09/01/18','10/07/18',COM05_COM03_regime_predictions,'Target',avoid1=0,target1=1,\n",
    "                  exit_zscore=0)"
   ]
  },
  {
   "cell_type": "code",
   "execution_count": 277,
   "metadata": {
    "scrolled": true
   },
   "outputs": [
    {
     "data": {
      "image/png": "[encoded data removed]",
      "text/plain": [
       "<Figure size 460.8x316.8 with 1 Axes>"
      ]
     },
     "metadata": {},
     "output_type": "display_data"
    }
   ],
   "source": [
    "#creating spread\n",
    "COM05_COM03_bottom_up.create_spread()\n",
    "#generating signals\n",
    "COM05_COM03_bottom_up.generate_signals()\n",
    "#getting performance\n",
    "#notice that we are passing in our equal weight amount here\n",
    "COM05_COM03_bottom_up.create_returns(30000,'COM05_COM03 Bottom Up')"
   ]
  },
  {
   "cell_type": "markdown",
   "metadata": {},
   "source": [
    "### Step 6: Getting Performance Metrics"
   ]
  },
  {
   "cell_type": "code",
   "execution_count": 278,
   "metadata": {},
   "outputs": [],
   "source": [
    "#creating dataframe for Bottom Up Portfolio\n",
    "bottom_up_portfolio=pd.DataFrame()\n",
    "bottom_up_portfolio['COM01_COM05']=COM01_COM05_bottom_up.portfolio['Portfolio Value']\n",
    "bottom_up_portfolio['COM03_COM05']=COM03_COM05_bottom_up.portfolio['Portfolio Value']\n",
    "bottom_up_portfolio['COM05_COM03']=COM05_COM03_bottom_up.portfolio['Portfolio Value']\n",
    "bottom_up_portfolio['Cash']=10000\n",
    "bottom_up_portfolio['Total Portfolio Value']=bottom_up_portfolio['COM01_COM05']+bottom_up_portfolio['COM03_COM05']+bottom_up_portfolio['COM05_COM03']+bottom_up_portfolio['Cash']"
   ]
  },
  {
   "cell_type": "code",
   "execution_count": 279,
   "metadata": {},
   "outputs": [],
   "source": [
    "#adding returns column to Bottom Up Dataframe\n",
    "bottom_up_portfolio['Returns']=np.log(bottom_up_portfolio['Total Portfolio Value']/bottom_up_portfolio['Total Portfolio Value'].shift(1))"
   ]
  },
  {
   "cell_type": "code",
   "execution_count": 280,
   "metadata": {},
   "outputs": [
    {
     "data": {
      "image/png": "[encoded data removed]",
      "text/plain": [
       "<Figure size 720x432 with 1 Axes>"
      ]
     },
     "metadata": {},
     "output_type": "display_data"
    }
   ],
   "source": [
    "# plot the equity curve of our Bottom Up Portfolio\n",
    "plt.figure(figsize=(10,6))\n",
    "plt.plot(bottom_up_portfolio['Total Portfolio Value'])\n",
    "plt.title('Bottom Up Portfolio')\n",
    "plt.show()"
   ]
  },
  {
   "cell_type": "code",
   "execution_count": 281,
   "metadata": {},
   "outputs": [],
   "source": [
    "bottom_up_portfolio_mu=bottom_up_portfolio['Returns'].mean()\n",
    "bottom_up_portfolio_sigma=bottom_up_portfolio['Returns'].std()\n",
    "\n",
    "#recall that we initialized our interest assumption earlier\n",
    "bottom_up_portfolio_sharpe=(bottom_up_portfolio_mu-rate)/bottom_up_portfolio_sigma"
   ]
  },
  {
   "cell_type": "code",
   "execution_count": 282,
   "metadata": {},
   "outputs": [
    {
     "data": {
      "text/plain": [
       "-0.14499455128225736"
      ]
     },
     "execution_count": 282,
     "metadata": {},
     "output_type": "execute_result"
    }
   ],
   "source": [
    "bottom_up_portfolio_sharpe"
   ]
  },
  {
   "cell_type": "markdown",
   "metadata": {},
   "source": [
    "### Portfolio Construction: Efficient Frontier"
   ]
  },
  {
   "cell_type": "code",
   "execution_count": 283,
   "metadata": {},
   "outputs": [],
   "source": [
    "# Initialzing Mus and Sigmas\n",
    "# COM01 & COM05\n",
    "COM01_COM05_mu=COM01_COM05.mu\n",
    "COM01_COM05_sigma=COM01_COM05.sigma\n",
    "# COM03 & COM05\n",
    "COM03_COM05_mu=COM03_COM05.mu\n",
    "COM03_COM05_sigma=COM03_COM05.sigma\n",
    "# COM05 & COM03\n",
    "COM05_COM03_mu=COM05_COM03.mu\n",
    "COM05_COM03_sigma=COM05_COM03.sigma"
   ]
  },
  {
   "cell_type": "code",
   "execution_count": 284,
   "metadata": {},
   "outputs": [],
   "source": [
    "#computing log returns for our portfolio values\n",
    "returns=np.log(equally_weighted[['COM01_COM05','COM03_COM05','COM05_COM03']]/equally_weighted[['COM01_COM05','COM03_COM05','COM05_COM03']].shift(1))"
   ]
  },
  {
   "cell_type": "code",
   "execution_count": 285,
   "metadata": {},
   "outputs": [
    {
     "data": {
      "text/html": [
       "<div>\n",
       "<style scoped>\n",
       "    .dataframe tbody tr th:only-of-type {\n",
       "        vertical-align: middle;\n",
       "    }\n",
       "\n",
       "    .dataframe tbody tr th {\n",
       "        vertical-align: top;\n",
       "    }\n",
       "\n",
       "    .dataframe thead th {\n",
       "        text-align: right;\n",
       "    }\n",
       "</style>\n",
       "<table border=\"1\" class=\"dataframe\">\n",
       "  <thead>\n",
       "    <tr style=\"text-align: right;\">\n",
       "      <th></th>\n",
       "      <th>COM01_COM05</th>\n",
       "      <th>COM03_COM05</th>\n",
       "      <th>COM05_COM03</th>\n",
       "    </tr>\n",
       "  </thead>\n",
       "  <tbody>\n",
       "    <tr>\n",
       "      <th>0</th>\n",
       "      <td>NaN</td>\n",
       "      <td>NaN</td>\n",
       "      <td>NaN</td>\n",
       "    </tr>\n",
       "    <tr>\n",
       "      <th>1</th>\n",
       "      <td>0.0</td>\n",
       "      <td>0.0</td>\n",
       "      <td>0.0</td>\n",
       "    </tr>\n",
       "    <tr>\n",
       "      <th>2</th>\n",
       "      <td>0.0</td>\n",
       "      <td>0.0</td>\n",
       "      <td>0.0</td>\n",
       "    </tr>\n",
       "    <tr>\n",
       "      <th>3</th>\n",
       "      <td>0.0</td>\n",
       "      <td>0.0</td>\n",
       "      <td>0.0</td>\n",
       "    </tr>\n",
       "    <tr>\n",
       "      <th>4</th>\n",
       "      <td>0.0</td>\n",
       "      <td>0.0</td>\n",
       "      <td>0.0</td>\n",
       "    </tr>\n",
       "  </tbody>\n",
       "</table>\n",
       "</div>"
      ],
      "text/plain": [
       "   COM01_COM05  COM03_COM05  COM05_COM03\n",
       "0          NaN          NaN          NaN\n",
       "1          0.0          0.0          0.0\n",
       "2          0.0          0.0          0.0\n",
       "3          0.0          0.0          0.0\n",
       "4          0.0          0.0          0.0"
      ]
     },
     "execution_count": 285,
     "metadata": {},
     "output_type": "execute_result"
    }
   ],
   "source": [
    "#checking returns\n",
    "returns.head()"
   ]
  },
  {
   "cell_type": "code",
   "execution_count": 292,
   "metadata": {},
   "outputs": [],
   "source": [
    "avg_returns=returns.mean()*252"
   ]
  },
  {
   "cell_type": "code",
   "execution_count": 293,
   "metadata": {},
   "outputs": [
    {
     "data": {
      "text/plain": [
       "COM01_COM05   -0.013105\n",
       "COM03_COM05    0.004904\n",
       "COM05_COM03   -0.009356\n",
       "dtype: float64"
      ]
     },
     "execution_count": 293,
     "metadata": {},
     "output_type": "execute_result"
    }
   ],
   "source": [
    "#checking average annualized returns\n",
    "avg_returns"
   ]
  },
  {
   "cell_type": "code",
   "execution_count": 289,
   "metadata": {},
   "outputs": [],
   "source": [
    "covariance_matrix=returns.cov()*252"
   ]
  },
  {
   "cell_type": "code",
   "execution_count": 290,
   "metadata": {},
   "outputs": [
    {
     "data": {
      "text/html": [
       "<div>\n",
       "<style scoped>\n",
       "    .dataframe tbody tr th:only-of-type {\n",
       "        vertical-align: middle;\n",
       "    }\n",
       "\n",
       "    .dataframe tbody tr th {\n",
       "        vertical-align: top;\n",
       "    }\n",
       "\n",
       "    .dataframe thead th {\n",
       "        text-align: right;\n",
       "    }\n",
       "</style>\n",
       "<table border=\"1\" class=\"dataframe\">\n",
       "  <thead>\n",
       "    <tr style=\"text-align: right;\">\n",
       "      <th></th>\n",
       "      <th>COM01_COM05</th>\n",
       "      <th>COM03_COM05</th>\n",
       "      <th>COM05_COM03</th>\n",
       "    </tr>\n",
       "  </thead>\n",
       "  <tbody>\n",
       "    <tr>\n",
       "      <th>COM01_COM05</th>\n",
       "      <td>2.087232e-02</td>\n",
       "      <td>2.551377e-07</td>\n",
       "      <td>-4.867995e-07</td>\n",
       "    </tr>\n",
       "    <tr>\n",
       "      <th>COM03_COM05</th>\n",
       "      <td>2.551377e-07</td>\n",
       "      <td>1.876906e-03</td>\n",
       "      <td>1.877183e-03</td>\n",
       "    </tr>\n",
       "    <tr>\n",
       "      <th>COM05_COM03</th>\n",
       "      <td>-4.867995e-07</td>\n",
       "      <td>1.877183e-03</td>\n",
       "      <td>4.623105e-03</td>\n",
       "    </tr>\n",
       "  </tbody>\n",
       "</table>\n",
       "</div>"
      ],
      "text/plain": [
       "              COM01_COM05   COM03_COM05   COM05_COM03\n",
       "COM01_COM05  2.087232e-02  2.551377e-07 -4.867995e-07\n",
       "COM03_COM05  2.551377e-07  1.876906e-03  1.877183e-03\n",
       "COM05_COM03 -4.867995e-07  1.877183e-03  4.623105e-03"
      ]
     },
     "execution_count": 290,
     "metadata": {},
     "output_type": "execute_result"
    }
   ],
   "source": [
    "covariance_matrix"
   ]
  },
  {
   "cell_type": "code",
   "execution_count": 294,
   "metadata": {},
   "outputs": [],
   "source": [
    "#assigning weights\n",
    "weights=np.random.random(len(returns.columns))\n",
    "weights/=np.sum(weights)"
   ]
  },
  {
   "cell_type": "code",
   "execution_count": 295,
   "metadata": {},
   "outputs": [
    {
     "data": {
      "text/plain": [
       "array([0.50836597, 0.11443908, 0.37719495])"
      ]
     },
     "execution_count": 295,
     "metadata": {},
     "output_type": "execute_result"
    }
   ],
   "source": [
    "#reviewing weights\n",
    "weights"
   ]
  },
  {
   "cell_type": "code",
   "execution_count": 296,
   "metadata": {},
   "outputs": [],
   "source": [
    "#importing optimization function\n",
    "import scipy.optimize as sco"
   ]
  },
  {
   "cell_type": "code",
   "execution_count": 297,
   "metadata": {},
   "outputs": [],
   "source": [
    "def efficient_frontier(returns,rate=0.015):\n",
    "   \n",
    "    #creating a list to hold our portfolio returns, variance and Sharpe values\n",
    "    portfolio_returns=[]\n",
    "    portfolio_volatility=[]\n",
    "    p_sharpes=[]\n",
    "    \n",
    "   # returns=returns_df\n",
    "    \n",
    "    for i in range(500):\n",
    "        #assigning weights\n",
    "        weights=np.random.random(len(returns.columns))\n",
    "        weights/=np.sum(weights)\n",
    "\n",
    "        #getting returns\n",
    "        current_return=np.sum(returns.mean()*weights)*252\n",
    "        portfolio_returns.append(current_return)\n",
    "        \n",
    "        #getting variances\n",
    "        variance=np.dot(weights.T,np.dot(returns.cov()*252,weights))\n",
    "        #getting volatility\n",
    "        volatility=np.sqrt(variance)\n",
    "        portfolio_volatility.append(volatility)\n",
    "        \n",
    "        #getting Sharpe ratios\n",
    "        ratio=(current_return-rate)/volatility\n",
    "        #storing Sharpe in list\n",
    "        p_sharpes.append(ratio)\n",
    "    \n",
    "    p_returns=np.array(portfolio_returns)\n",
    "    p_volatility=np.array(portfolio_volatility)\n",
    "    p_sharpes=np.array(p_sharpes)\n",
    "    \n",
    "    #plotting\n",
    "    plt.figure(figsize=(10,6))\n",
    "    plt.scatter(p_volatility,p_returns,c=p_sharpes, marker='o')\n",
    "    plt.xlabel('Expected Volatility')\n",
    "    plt.ylabel('Expected Return')\n",
    "    plt.title('Efficient Frontier')\n",
    "    plt.colorbar(label='Sharpe Ratio')\n",
    "    plt.show()\n",
    "    \n",
    "    return"
   ]
  },
  {
   "cell_type": "code",
   "execution_count": 298,
   "metadata": {},
   "outputs": [
    {
     "data": {
      "image/png": "[encoded data removed]",
      "text/plain": [
       "<Figure size 720x432 with 2 Axes>"
      ]
     },
     "metadata": {},
     "output_type": "display_data"
    }
   ],
   "source": [
    "efficient_frontier(returns.fillna(0))"
   ]
  },
  {
   "cell_type": "code",
   "execution_count": 299,
   "metadata": {},
   "outputs": [],
   "source": [
    "def stats(weights,rate=0.015):\n",
    "    weights=np.array(weights)\n",
    "    p_returns=np.sum(returns.mean()*weights)*252\n",
    "    p_volatility=np.sqrt(np.dot(weights.T,np.dot(returns.cov()*252,weights)))\n",
    "    p_sharpe=(p_returns-rate)/p_volatility\n",
    "    \n",
    "    return np.array([p_returns,p_volatility,p_sharpe])"
   ]
  },
  {
   "cell_type": "code",
   "execution_count": 300,
   "metadata": {},
   "outputs": [
    {
     "data": {
      "text/plain": [
       "array([-0.00963009,  0.07898353, -0.31183827])"
      ]
     },
     "execution_count": 300,
     "metadata": {},
     "output_type": "execute_result"
    }
   ],
   "source": [
    "#testing stats method\n",
    "stats(weights)"
   ]
  },
  {
   "cell_type": "code",
   "execution_count": 301,
   "metadata": {},
   "outputs": [],
   "source": [
    "#creating function for optimization\n",
    "def minimize_func(weights):\n",
    "        return -stats(weights)[2]"
   ]
  },
  {
   "cell_type": "code",
   "execution_count": 302,
   "metadata": {},
   "outputs": [
    {
     "data": {
      "text/plain": [
       "0.3118382739316091"
      ]
     },
     "execution_count": 302,
     "metadata": {},
     "output_type": "execute_result"
    }
   ],
   "source": [
    "#testing optimization function\n",
    "minimize_func(weights)"
   ]
  },
  {
   "cell_type": "code",
   "execution_count": 303,
   "metadata": {},
   "outputs": [],
   "source": [
    "def get_optimal_weights(weights):\n",
    "    #Finding Most Optimal Weights\n",
    "    #variables for optimization\n",
    "    constraints=({'type':'eq','fun':lambda x: np.sum(x)-1})\n",
    "    bounds=tuple((0,1) for x in range(len(returns.columns)))\n",
    "\n",
    "    starting_weights=len(returns.columns)*[1./len(returns.columns)]\n",
    "    most_optimal=sco.minimize(minimize_func,starting_weights, method='SLSQP', bounds=bounds, constraints=constraints)\n",
    "    best_weights=most_optimal['x'].round(3)\n",
    "\n",
    "    return best_weights, print('Weights:',best_weights)"
   ]
  },
  {
   "cell_type": "code",
   "execution_count": 304,
   "metadata": {},
   "outputs": [
    {
     "name": "stdout",
     "output_type": "stream",
     "text": [
      "Weights: [1. 0. 0.]\n"
     ]
    }
   ],
   "source": [
    "#storing optimal weights in a variable\n",
    "optimal_weights=get_optimal_weights(weights)"
   ]
  },
  {
   "cell_type": "code",
   "execution_count": 305,
   "metadata": {},
   "outputs": [],
   "source": [
    "#total allocation variable\n",
    "total_allocation=90000 #100k less 10k cash\n",
    "\n",
    "#COM01_COM05 Allocation\n",
    "COM01_COM05_allocation=round(total_allocation*optimal_weights[0][0],2)\n",
    "\n",
    "#COM05_COM03 Allocation\n",
    "COM05_COM03_allocation=round(total_allocation*optimal_weights[0][2],2)"
   ]
  },
  {
   "cell_type": "code",
   "execution_count": 307,
   "metadata": {},
   "outputs": [
    {
     "data": {
      "image/png": "[encoded data removed]",
      "text/plain": [
       "<Figure size 460.8x316.8 with 1 Axes>"
      ]
     },
     "metadata": {},
     "output_type": "display_data"
    }
   ],
   "source": [
    "#creating 2nd instance of first pair\n",
    "COM01_COM05_2=statarb(COM01_test_price_series,COM05_test_price_series,17,-2,2,17,COM01_test.iloc[0],COM01_test.iloc[-1])\n",
    "COM01_COM05_2.create_spread()\n",
    "COM01_COM05_2.generate_signals()\n",
    "\n",
    "#notice here we're using our updated allocation\n",
    "COM01_COM05_2.create_returns(COM01_COM05_allocation,'COM01_COM05_Portfolio _2')"
   ]
  },
  {
   "cell_type": "code",
   "execution_count": 309,
   "metadata": {},
   "outputs": [
    {
     "data": {
      "image/png": "[encoded data removed]",
      "text/plain": [
       "<Figure size 460.8x316.8 with 1 Axes>"
      ]
     },
     "metadata": {},
     "output_type": "display_data"
    }
   ],
   "source": [
    "#COM05_COM03 2nd implementation\n",
    "COM05_COM03_2=statarb(COM05_test_price_series,COM03_test_price_series,12,-2,2,12,COM05_test.iloc[0],COM05_test.iloc[-1])\n",
    "COM05_COM03_2.create_spread()\n",
    "COM05_COM03_2.generate_signals()\n",
    "COM05_COM03_2.create_returns(COM05_COM03_allocation,'AET & ANTM')"
   ]
  },
  {
   "cell_type": "code",
   "execution_count": 310,
   "metadata": {},
   "outputs": [],
   "source": [
    "# Creating the Efficient Frontier Portfolio\n",
    "#creating dataframe for Efficient Frontier Portfolio\n",
    "efficient_frontier_portfolio=pd.DataFrame()\n",
    "efficient_frontier_portfolio['COM01_COM05']=COM01_COM05_2.portfolio['Portfolio Value']\n",
    "efficient_frontier_portfolio['COM05_COM03']=COM05_COM03_2.portfolio['Portfolio Value']\n",
    "efficient_frontier_portfolio['Cash']=10000\n",
    "efficient_frontier_portfolio['Total Portfolio Value']=efficient_frontier_portfolio['COM01_COM05']+efficient_frontier_portfolio['COM05_COM03']+efficient_frontier_portfolio['Cash']"
   ]
  },
  {
   "cell_type": "code",
   "execution_count": 311,
   "metadata": {},
   "outputs": [],
   "source": [
    "#adding returns column to Efficient Frontier Dataframe\n",
    "efficient_frontier_portfolio['Returns']=np.log(efficient_frontier_portfolio['Total Portfolio Value']/efficient_frontier_portfolio['Total Portfolio Value'].shift(1))"
   ]
  },
  {
   "cell_type": "code",
   "execution_count": 312,
   "metadata": {},
   "outputs": [
    {
     "data": {
      "text/html": [
       "<div>\n",
       "<style scoped>\n",
       "    .dataframe tbody tr th:only-of-type {\n",
       "        vertical-align: middle;\n",
       "    }\n",
       "\n",
       "    .dataframe tbody tr th {\n",
       "        vertical-align: top;\n",
       "    }\n",
       "\n",
       "    .dataframe thead th {\n",
       "        text-align: right;\n",
       "    }\n",
       "</style>\n",
       "<table border=\"1\" class=\"dataframe\">\n",
       "  <thead>\n",
       "    <tr style=\"text-align: right;\">\n",
       "      <th></th>\n",
       "      <th>COM01_COM05</th>\n",
       "      <th>COM05_COM03</th>\n",
       "      <th>Cash</th>\n",
       "      <th>Total Portfolio Value</th>\n",
       "      <th>Returns</th>\n",
       "    </tr>\n",
       "  </thead>\n",
       "  <tbody>\n",
       "    <tr>\n",
       "      <th>0</th>\n",
       "      <td>90000.0</td>\n",
       "      <td>0.0</td>\n",
       "      <td>10000</td>\n",
       "      <td>100000.0</td>\n",
       "      <td>NaN</td>\n",
       "    </tr>\n",
       "    <tr>\n",
       "      <th>1</th>\n",
       "      <td>90000.0</td>\n",
       "      <td>0.0</td>\n",
       "      <td>10000</td>\n",
       "      <td>100000.0</td>\n",
       "      <td>0.0</td>\n",
       "    </tr>\n",
       "    <tr>\n",
       "      <th>2</th>\n",
       "      <td>90000.0</td>\n",
       "      <td>0.0</td>\n",
       "      <td>10000</td>\n",
       "      <td>100000.0</td>\n",
       "      <td>0.0</td>\n",
       "    </tr>\n",
       "    <tr>\n",
       "      <th>3</th>\n",
       "      <td>90000.0</td>\n",
       "      <td>0.0</td>\n",
       "      <td>10000</td>\n",
       "      <td>100000.0</td>\n",
       "      <td>0.0</td>\n",
       "    </tr>\n",
       "    <tr>\n",
       "      <th>4</th>\n",
       "      <td>90000.0</td>\n",
       "      <td>0.0</td>\n",
       "      <td>10000</td>\n",
       "      <td>100000.0</td>\n",
       "      <td>0.0</td>\n",
       "    </tr>\n",
       "  </tbody>\n",
       "</table>\n",
       "</div>"
      ],
      "text/plain": [
       "   COM01_COM05  COM05_COM03   Cash  Total Portfolio Value  Returns\n",
       "0      90000.0          0.0  10000               100000.0      NaN\n",
       "1      90000.0          0.0  10000               100000.0      0.0\n",
       "2      90000.0          0.0  10000               100000.0      0.0\n",
       "3      90000.0          0.0  10000               100000.0      0.0\n",
       "4      90000.0          0.0  10000               100000.0      0.0"
      ]
     },
     "execution_count": 312,
     "metadata": {},
     "output_type": "execute_result"
    }
   ],
   "source": [
    "#checking head of Efficient Frontier Portfolio dataframe\n",
    "efficient_frontier_portfolio.head()"
   ]
  },
  {
   "cell_type": "code",
   "execution_count": 313,
   "metadata": {},
   "outputs": [
    {
     "data": {
      "image/png": "[encoded data removed]",
      "text/plain": [
       "<Figure size 720x432 with 1 Axes>"
      ]
     },
     "metadata": {},
     "output_type": "display_data"
    }
   ],
   "source": [
    "#plotting Equity Curve for Efficient Frontier Portfolio\n",
    "plt.figure(figsize=(10,6))\n",
    "plt.plot(efficient_frontier_portfolio['Total Portfolio Value'])\n",
    "plt.title('Efficient Frontier Portfolio Equity Curve')\n",
    "plt.show()"
   ]
  },
  {
   "cell_type": "code",
   "execution_count": 314,
   "metadata": {},
   "outputs": [],
   "source": [
    "efficient_frontier_portfolio_mu=efficient_frontier_portfolio['Returns'].mean()\n",
    "efficient_frontier_portfolio_sigma=efficient_frontier_portfolio['Returns'].std()\n",
    "\n",
    "#recall that we initialized our interest assumption earlier\n",
    "efficient_frontier_portfolio_sharpe=(efficient_frontier_portfolio_mu-rate)/efficient_frontier_portfolio_sigma"
   ]
  },
  {
   "cell_type": "code",
   "execution_count": 315,
   "metadata": {},
   "outputs": [
    {
     "data": {
      "text/plain": [
       "-1.846535052920837"
      ]
     },
     "execution_count": 315,
     "metadata": {},
     "output_type": "execute_result"
    }
   ],
   "source": [
    "efficient_frontier_portfolio_sharpe"
   ]
  },
  {
   "cell_type": "code",
   "execution_count": null,
   "metadata": {},
   "outputs": [],
   "source": []
  }
 ],
 "metadata": {
  "kernelspec": {
   "display_name": "Python 3",
   "language": "python",
   "name": "python3"
  },
  "language_info": {
   "codemirror_mode": {
    "name": "ipython",
    "version": 3
   },
   "file_extension": ".py",
   "mimetype": "text/x-python",
   "name": "python",
   "nbconvert_exporter": "python",
   "pygments_lexer": "ipython3",
   "version": "3.6.5"
  }
 },
 "nbformat": 4,
 "nbformat_minor": 2
}
